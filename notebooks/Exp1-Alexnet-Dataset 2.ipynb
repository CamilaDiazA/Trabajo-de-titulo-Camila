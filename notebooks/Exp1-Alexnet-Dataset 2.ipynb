{
 "cells": [
  {
   "cell_type": "code",
   "execution_count": 2,
   "id": "86b7de23",
   "metadata": {},
   "outputs": [],
   "source": [
    "from skimage import io\n",
    "from matplotlib import pyplot as plt\n",
    "from glob import glob\n",
    "import numpy as np\n",
    "from skimage.color import (separate_stains, combine_stains,\n",
    "                            hdx_from_rgb, rgb_from_hdx,rgb2hed, hed2rgb) \n",
    "from skimage.exposure import rescale_intensity\n",
    "from keras.models import Sequential\n",
    "from keras.layers import Dense, Dropout, Conv2D, MaxPool2D, Flatten\n",
    "from keras.utils import np_utils\n",
    "from sklearn.metrics import accuracy_score\n",
    "from sklearn.metrics import confusion_matrix as cm\n",
    "from sklearn.metrics import precision_score,recall_score,accuracy_score, f1_score\n",
    "import matplotlib.pyplot as plt\n",
    "from sklearn.metrics import plot_confusion_matrix\n",
    "from sklearn.metrics import confusion_matrix, classification_report\n",
    "import tensorflow as tf\n",
    "from tensorflow import keras\n",
    "import os\n",
    "import time\n"
   ]
  },
  {
   "cell_type": "markdown",
   "id": "04a69f7a",
   "metadata": {},
   "source": [
    "# Funciones\n"
   ]
  },
  {
   "cell_type": "code",
   "execution_count": 3,
   "id": "4aa247cf",
   "metadata": {},
   "outputs": [],
   "source": [
    "#Leer el conjunto de imagenes\n",
    "def LeerImagenes(imagenes):\n",
    "    imgs=[]\n",
    "    for x in range(0,len(imagenes)):\n",
    "        imgs.append(io.imread(imagenes[x]))\n",
    "    MImagenes=np.array(imgs)\n",
    "    \n",
    "    return MImagenes"
   ]
  },
  {
   "cell_type": "code",
   "execution_count": 4,
   "id": "51c18014",
   "metadata": {},
   "outputs": [],
   "source": [
    "#Crea matriz con las etiquetas de las imagenes\n",
    "def CalculoEtiquetas(imagenes):\n",
    "    Etiquetas=[]\n",
    "    for x in range(0,len(imagenes)):\n",
    "        Clasificacion =imagenes[x].split('-') \n",
    "        for i in range(0,len(Clasificacion)) :\n",
    "            Valores=(Clasificacion[2])\n",
    "            Numero=Valores.split('_')\n",
    "        Etiquetas.append(int(Numero[1]))\n",
    "        #Etiquetas=np.array(etiquetas)\n",
    "    return Etiquetas"
   ]
  },
  {
   "cell_type": "code",
   "execution_count": 5,
   "id": "e98f9713",
   "metadata": {},
   "outputs": [],
   "source": [
    "#Aplico filtro al conjunto de imagenes ingresados cono paramentro\n",
    "def AplicarFiltro(MImagenes):\n",
    "    imgs_con_filtro=[]\n",
    "    for x in range(0,len(MImagenes)):\n",
    "        ihc_hdx = rgb2hed(MImagenes[x])\n",
    "        null = np.zeros_like(ihc_hdx[:, :, 0])\n",
    "        ihc_h = hed2rgb(np.stack((ihc_hdx[:, :, 0], null, null), axis=-1))\n",
    "        ihc_d = hed2rgb(np.stack((null, ihc_hdx[:, :, 1], null), axis=-1))\n",
    "        ihc_x = hed2rgb(np.stack((null, null, ihc_hdx[:, :, 2]), axis=-1))\n",
    "\n",
    "        h = rescale_intensity(ihc_hdx[:, :, 0], out_range=(0, 1),\n",
    "                      in_range=(0, np.percentile(ihc_hdx[:, :, 0], 99)))\n",
    "        d = rescale_intensity(ihc_hdx[:, :, 2], out_range=(0, 1),\n",
    "                      in_range=(0, np.percentile(ihc_hdx[:, :, 2], 99)))\n",
    "    \n",
    "        zdh = np.dstack((null, d, h))\n",
    "        imgs_con_filtro.append(zdh)\n",
    "    Imagenes_con_fitro=np.array(imgs_con_filtro)\n",
    "    return Imagenes_con_fitro"
   ]
  },
  {
   "cell_type": "code",
   "execution_count": 6,
   "id": "fcc331ee",
   "metadata": {},
   "outputs": [],
   "source": [
    "#Obtiene el canal DAB de las imagenes representativas ingresadas\n",
    "def ImagenDAB(MImagenes):\n",
    "    imgs_DAB=[]\n",
    "    for x in range(0,len(MImagenes)):\n",
    "        ihc_hdx = rgb2hed(MImagenes[x])\n",
    "        null = np.zeros_like(ihc_hdx[:, :, 0])\n",
    "        #Seleccionó solo el canal DAB\n",
    "        ihc_x = hed2rgb(np.stack((null, null, ihc_hdx[:, :, 2]), axis=-1)) \n",
    "        #Guardo solo el canal DAB \n",
    "        imgs_DAB.append(ihc_x)\n",
    "    Imagenes_DAB=np.array(imgs_DAB)\n",
    "    return Imagenes_DAB"
   ]
  },
  {
   "cell_type": "code",
   "execution_count": 7,
   "id": "137e4042",
   "metadata": {},
   "outputs": [],
   "source": [
    "#Obtiene los valores promedios de cada clase y los valores min y max de estos, segun las imagenes representativas ingresadas\n",
    "\n",
    "def CalculoPromedios(Imagenes_DAB,Etiquetas):\n",
    "    Prom0=[]\n",
    "    Prom1=[]\n",
    "    Prom2=[]\n",
    "    Prom3=[]\n",
    "    Prom_imgs=[]\n",
    "    for x in range(0,len(Imagenes_DAB)):\n",
    "        Promedio=np.mean(Imagenes_DAB[x])\n",
    "        Prom_imgs.append(Promedio)\n",
    "    for x in range(0,len(Etiquetas)):\n",
    "        if Etiquetas[x]==0:\n",
    "            Prom0.append(Prom_imgs[x])\n",
    "        elif Etiquetas[x]==1:\n",
    "            Prom1.append(Prom_imgs[x])\n",
    "        elif Etiquetas[x]==2:\n",
    "            Prom2.append(Prom_imgs[x])\n",
    "        elif Etiquetas[x]==3:   \n",
    "            Prom3.append(Prom_imgs[x])\n",
    "        else:\n",
    "            print(\"Error en la etiqueta\") \n",
    "    Min0=min(Prom0)        \n",
    "    Max0=max(Prom0)\n",
    "    Min1=min(Prom1)\n",
    "    Max1=max(Prom1)\n",
    "    Min2=min(Prom2)\n",
    "    Max2=max(Prom2)\n",
    "    Min3=min(Prom3)\n",
    "    Max3=max(Prom3)\n",
    "    return Min0,Max0,Min1,Max1,Min2,Max2,Min3,Max3"
   ]
  },
  {
   "cell_type": "code",
   "execution_count": 8,
   "id": "8f2e341b",
   "metadata": {},
   "outputs": [],
   "source": [
    "#Filtra, quitando las imagenes que no cumplan con los valores asignados para su clase, retornando el conjunto de imagenes que \n",
    "#cumplen con los requisitos\n",
    "\n",
    "def SemiFiltro(Imagenes,Etiquetas,Min0,Max0,Min1,Max1,Min2,Max2,Min3,Max3):\n",
    "    Imgs=[]\n",
    "    etqs=[]\n",
    "    Imgs_DAB=ImagenDAB(Imagenes)\n",
    "            \n",
    "    for x in range(0,len(Imagenes)):\n",
    "        Promedio=np.mean(Imgs_DAB[x])\n",
    "        if Etiquetas[x]==0:\n",
    "            if Promedio>=Min0 and Promedio<=Max0:\n",
    "                Imgs.append(Imagenes[x])\n",
    "                etqs.append(Etiquetas[x])\n",
    "        elif Etiquetas[x]==1:\n",
    "            if Promedio>=Min1 and Promedio<=Max1:\n",
    "                Imgs.append(Imagenes[x])\n",
    "                etqs.append(Etiquetas[x])\n",
    "        elif Etiquetas[x]==2:\n",
    "            if Promedio>=Min2 and Promedio<=Max2:\n",
    "                Imgs.append(Imagenes[x])\n",
    "                etqs.append(Etiquetas[x])\n",
    "        elif Etiquetas[x]==3:   \n",
    "            if Promedio>=Min3 and Promedio<=Max3:\n",
    "                Imgs.append(Imagenes[x])\n",
    "                etqs.append(Etiquetas[x])\n",
    "        else:\n",
    "            print(\"Error en la etiqueta\")\n",
    "    Imagenes=np.array(Imgs)\n",
    "    Etqs=np.array(etqs)\n",
    "    return Imagenes,Etqs             \n",
    "            "
   ]
  },
  {
   "cell_type": "code",
   "execution_count": 9,
   "id": "5a730a13",
   "metadata": {},
   "outputs": [],
   "source": [
    "# Constantes\n",
    "# data_source = \"../data/\"\n",
    "# models_dir = '../saved_models/'\n",
    "train_imgs = glob(f\"/home/cdiaz/data/training/*.png\")\n",
    "test_imgs = glob(f\"/home/cdiaz/data/test/*.png\")\n",
    "I_representativas=glob(f\"/home/cdiaz/data/Imagenes_representativas/*.png\")"
   ]
  },
  {
   "cell_type": "code",
   "execution_count": 10,
   "id": "52f27d4c",
   "metadata": {},
   "outputs": [],
   "source": [
    "#leer imagenes\n",
    "Imagenes_rep=LeerImagenes(I_representativas)\n",
    "Etiquetas_rep=CalculoEtiquetas(I_representativas)\n",
    "X_train=LeerImagenes(train_imgs)\n",
    "y_train=CalculoEtiquetas(train_imgs)\n",
    "X_test=LeerImagenes(test_imgs)\n",
    "y_test=CalculoEtiquetas(test_imgs)"
   ]
  },
  {
   "cell_type": "code",
   "execution_count": 11,
   "id": "512940f3",
   "metadata": {},
   "outputs": [],
   "source": [
    "ImagenesDAB=ImagenDAB(Imagenes_rep)\n",
    "Min0,Max0,Min1,Max1,Min2,Max2,Min3,Max3=CalculoPromedios(ImagenesDAB,Etiquetas_rep)\n",
    "Train_X_final,Train_Y_final=SemiFiltro(X_train,y_train,Min0,Max0,Min1,Max1,Min2,Max2,Min3,Max3)\n",
    "Test_X_final,Test_Y_final=SemiFiltro(X_test,y_test,Min0,Max0,Min1,Max1,Min2,Max2,Min3,Max3)   "
   ]
  },
  {
   "cell_type": "code",
   "execution_count": 12,
   "id": "1684417d",
   "metadata": {},
   "outputs": [
    {
     "name": "stdout",
     "output_type": "stream",
     "text": [
      "3638\n",
      "1733\n"
     ]
    }
   ],
   "source": [
    "print(len(X_train))\n",
    "print(len(Train_X_final))"
   ]
  },
  {
   "cell_type": "code",
   "execution_count": 13,
   "id": "1aebbb6a",
   "metadata": {},
   "outputs": [],
   "source": [
    "n_classes = 4\n",
    "Y_train = np_utils.to_categorical(Train_Y_final, n_classes)\n",
    "Y_test = np_utils.to_categorical(Test_Y_final, n_classes)"
   ]
  },
  {
   "cell_type": "code",
   "execution_count": 14,
   "id": "0dfb443d",
   "metadata": {},
   "outputs": [],
   "source": [
    "#Train_X_F=AplicarFiltro(Train_X_final)\n",
    "#Test_X_F=AplicarFiltro(Test_X_final)"
   ]
  },
  {
   "cell_type": "markdown",
   "id": "b4d76163",
   "metadata": {},
   "source": [
    "# Creación de CNN"
   ]
  },
  {
   "cell_type": "code",
   "execution_count": 15,
   "id": "fe9c4867",
   "metadata": {},
   "outputs": [
    {
     "name": "stdout",
     "output_type": "stream",
     "text": [
      "Model: \"sequential\"\n",
      "_________________________________________________________________\n",
      "Layer (type)                 Output Shape              Param #   \n",
      "=================================================================\n",
      "conv2d (Conv2D)              (None, 73, 73, 96)        34944     \n",
      "_________________________________________________________________\n",
      "batch_normalization (BatchNo (None, 73, 73, 96)        384       \n",
      "_________________________________________________________________\n",
      "max_pooling2d (MaxPooling2D) (None, 36, 36, 96)        0         \n",
      "_________________________________________________________________\n",
      "conv2d_1 (Conv2D)            (None, 36, 36, 256)       614656    \n",
      "_________________________________________________________________\n",
      "batch_normalization_1 (Batch (None, 36, 36, 256)       1024      \n",
      "_________________________________________________________________\n",
      "max_pooling2d_1 (MaxPooling2 (None, 17, 17, 256)       0         \n",
      "_________________________________________________________________\n",
      "conv2d_2 (Conv2D)            (None, 17, 17, 384)       885120    \n",
      "_________________________________________________________________\n",
      "batch_normalization_2 (Batch (None, 17, 17, 384)       1536      \n",
      "_________________________________________________________________\n",
      "conv2d_3 (Conv2D)            (None, 17, 17, 384)       1327488   \n",
      "_________________________________________________________________\n",
      "batch_normalization_3 (Batch (None, 17, 17, 384)       1536      \n",
      "_________________________________________________________________\n",
      "conv2d_4 (Conv2D)            (None, 17, 17, 256)       884992    \n",
      "_________________________________________________________________\n",
      "batch_normalization_4 (Batch (None, 17, 17, 256)       1024      \n",
      "_________________________________________________________________\n",
      "max_pooling2d_2 (MaxPooling2 (None, 8, 8, 256)         0         \n",
      "_________________________________________________________________\n",
      "flatten (Flatten)            (None, 16384)             0         \n",
      "_________________________________________________________________\n",
      "dense (Dense)                (None, 4096)              67112960  \n",
      "_________________________________________________________________\n",
      "dropout (Dropout)            (None, 4096)              0         \n",
      "_________________________________________________________________\n",
      "dense_1 (Dense)              (None, 4096)              16781312  \n",
      "_________________________________________________________________\n",
      "dropout_1 (Dropout)          (None, 4096)              0         \n",
      "_________________________________________________________________\n",
      "dense_2 (Dense)              (None, 4)                 16388     \n",
      "=================================================================\n",
      "Total params: 87,663,364\n",
      "Trainable params: 87,660,612\n",
      "Non-trainable params: 2,752\n",
      "_________________________________________________________________\n"
     ]
    }
   ],
   "source": [
    "model = keras.models.Sequential([\n",
    "    keras.layers.Conv2D(filters=96, kernel_size=(11,11), strides=(4,4), activation='relu', input_shape=(300,300,3)),\n",
    "    keras.layers.BatchNormalization(),\n",
    "    keras.layers.MaxPool2D(pool_size=(3,3), strides=(2,2)),\n",
    "    keras.layers.Conv2D(filters=256, kernel_size=(5,5), strides=(1,1), activation='relu', padding=\"same\"),\n",
    "    keras.layers.BatchNormalization(),\n",
    "    keras.layers.MaxPool2D(pool_size=(3,3), strides=(2,2)),\n",
    "    keras.layers.Conv2D(filters=384, kernel_size=(3,3), strides=(1,1), activation='relu', padding=\"same\"),\n",
    "    keras.layers.BatchNormalization(),\n",
    "    keras.layers.Conv2D(filters=384, kernel_size=(3,3), strides=(1,1), activation='relu', padding=\"same\"),\n",
    "    keras.layers.BatchNormalization(),\n",
    "    keras.layers.Conv2D(filters=256, kernel_size=(3,3), strides=(1,1), activation='relu', padding=\"same\"),\n",
    "    keras.layers.BatchNormalization(),\n",
    "    keras.layers.MaxPool2D(pool_size=(3,3), strides=(2,2)),\n",
    "    keras.layers.Flatten(),\n",
    "    keras.layers.Dense(4096, activation='relu'),\n",
    "    keras.layers.Dropout(0.5),\n",
    "    keras.layers.Dense(4096, activation='relu'),\n",
    "    keras.layers.Dropout(0.5),\n",
    "    keras.layers.Dense(4, activation='softmax')\n",
    "])\n",
    "model.summary()"
   ]
  },
  {
   "cell_type": "code",
   "execution_count": 16,
   "id": "9c4b7ae6",
   "metadata": {},
   "outputs": [],
   "source": [
    "root_logdir = os.path.join(os.curdir, \"logs\\\\fit\\\\\")\n",
    "def get_run_logdir():\n",
    "    run_id = time.strftime(\"run_%Y_%m_%d-%H_%M_%S\")\n",
    "    return os.path.join(root_logdir, run_id)\n",
    "run_logdir = get_run_logdir()\n",
    "tensorboard_cb = keras.callbacks.TensorBoard(run_logdir)"
   ]
  },
  {
   "cell_type": "code",
   "execution_count": 17,
   "id": "3a63d6f9",
   "metadata": {},
   "outputs": [],
   "source": [
    "model.compile(loss='categorical_crossentropy', metrics=['accuracy'], optimizer=tf.optimizers.SGD(lr=0.001))"
   ]
  },
  {
   "cell_type": "code",
   "execution_count": 28,
   "id": "fb941590",
   "metadata": {},
   "outputs": [
    {
     "name": "stdout",
     "output_type": "stream",
     "text": [
      "Epoch 1/50\n",
      "55/55 [==============================] - 110s 2s/step - loss: 0.0772 - accuracy: 0.9723 - val_loss: 2.4586 - val_accuracy: 0.4479\n",
      "Epoch 2/50\n",
      "55/55 [==============================] - 102s 2s/step - loss: 0.0649 - accuracy: 0.9781 - val_loss: 7.5882 - val_accuracy: 0.5298\n",
      "Epoch 3/50\n",
      "55/55 [==============================] - 103s 2s/step - loss: 0.0586 - accuracy: 0.9804 - val_loss: 1.1541 - val_accuracy: 0.7568\n",
      "Epoch 4/50\n",
      "55/55 [==============================] - 104s 2s/step - loss: 0.0618 - accuracy: 0.9763 - val_loss: 7.2193 - val_accuracy: 0.4293\n",
      "Epoch 5/50\n",
      "55/55 [==============================] - 103s 2s/step - loss: 0.0758 - accuracy: 0.9746 - val_loss: 1.0549 - val_accuracy: 0.7692\n",
      "Epoch 6/50\n",
      "55/55 [==============================] - 103s 2s/step - loss: 0.0705 - accuracy: 0.9746 - val_loss: 0.8409 - val_accuracy: 0.7940\n",
      "Epoch 7/50\n",
      "55/55 [==============================] - 103s 2s/step - loss: 0.0434 - accuracy: 0.9850 - val_loss: 0.7567 - val_accuracy: 0.8164\n",
      "Epoch 8/50\n",
      "55/55 [==============================] - 102s 2s/step - loss: 0.0324 - accuracy: 0.9908 - val_loss: 0.6516 - val_accuracy: 0.8275\n",
      "Epoch 9/50\n",
      "55/55 [==============================] - 103s 2s/step - loss: 0.0473 - accuracy: 0.9821 - val_loss: 0.8488 - val_accuracy: 0.7543\n",
      "Epoch 10/50\n",
      "55/55 [==============================] - 103s 2s/step - loss: 0.0361 - accuracy: 0.9908 - val_loss: 3.0322 - val_accuracy: 0.4851\n",
      "Epoch 11/50\n",
      "55/55 [==============================] - 102s 2s/step - loss: 0.0578 - accuracy: 0.9821 - val_loss: 0.7928 - val_accuracy: 0.8002\n",
      "Epoch 12/50\n",
      "55/55 [==============================] - 103s 2s/step - loss: 0.0306 - accuracy: 0.9896 - val_loss: 1.1933 - val_accuracy: 0.7543\n",
      "Epoch 13/50\n",
      "55/55 [==============================] - 103s 2s/step - loss: 0.0329 - accuracy: 0.9896 - val_loss: 1.0480 - val_accuracy: 0.7382\n",
      "Epoch 14/50\n",
      "55/55 [==============================] - 103s 2s/step - loss: 0.0454 - accuracy: 0.9821 - val_loss: 1.0426 - val_accuracy: 0.7829\n",
      "Epoch 15/50\n",
      "55/55 [==============================] - 103s 2s/step - loss: 0.0318 - accuracy: 0.9890 - val_loss: 4.9326 - val_accuracy: 0.5757\n",
      "Epoch 16/50\n",
      "55/55 [==============================] - 103s 2s/step - loss: 0.0562 - accuracy: 0.9815 - val_loss: 0.7631 - val_accuracy: 0.8102\n",
      "Epoch 17/50\n",
      "55/55 [==============================] - 103s 2s/step - loss: 0.0373 - accuracy: 0.9879 - val_loss: 1.0136 - val_accuracy: 0.7990\n",
      "Epoch 18/50\n",
      "55/55 [==============================] - 103s 2s/step - loss: 0.0306 - accuracy: 0.9902 - val_loss: 3.0416 - val_accuracy: 0.5459\n",
      "Epoch 19/50\n",
      "55/55 [==============================] - 102s 2s/step - loss: 0.0546 - accuracy: 0.9810 - val_loss: 1.9061 - val_accuracy: 0.7196\n",
      "Epoch 20/50\n",
      "55/55 [==============================] - 103s 2s/step - loss: 0.0358 - accuracy: 0.9873 - val_loss: 1.4654 - val_accuracy: 0.7221\n",
      "Epoch 21/50\n",
      "55/55 [==============================] - 103s 2s/step - loss: 0.0298 - accuracy: 0.9890 - val_loss: 4.9361 - val_accuracy: 0.4342\n",
      "Epoch 22/50\n",
      "55/55 [==============================] - 103s 2s/step - loss: 0.0934 - accuracy: 0.9763 - val_loss: 1.1153 - val_accuracy: 0.7692\n",
      "Epoch 23/50\n",
      "55/55 [==============================] - 102s 2s/step - loss: 0.0233 - accuracy: 0.9948 - val_loss: 0.7123 - val_accuracy: 0.8375\n",
      "Epoch 24/50\n",
      "55/55 [==============================] - 103s 2s/step - loss: 0.0182 - accuracy: 0.9954 - val_loss: 1.8078 - val_accuracy: 0.6675\n",
      "Epoch 25/50\n",
      "55/55 [==============================] - 103s 2s/step - loss: 0.0369 - accuracy: 0.9879 - val_loss: 0.9313 - val_accuracy: 0.7829\n",
      "Epoch 26/50\n",
      "55/55 [==============================] - 102s 2s/step - loss: 0.0263 - accuracy: 0.9902 - val_loss: 0.8824 - val_accuracy: 0.8002\n",
      "Epoch 27/50\n",
      "55/55 [==============================] - 103s 2s/step - loss: 0.0150 - accuracy: 0.9965 - val_loss: 0.7749 - val_accuracy: 0.8052\n",
      "Epoch 28/50\n",
      "55/55 [==============================] - 103s 2s/step - loss: 0.0231 - accuracy: 0.9931 - val_loss: 0.8666 - val_accuracy: 0.7940\n",
      "Epoch 29/50\n",
      "55/55 [==============================] - 102s 2s/step - loss: 0.0279 - accuracy: 0.9902 - val_loss: 0.8016 - val_accuracy: 0.8238\n",
      "Epoch 30/50\n",
      "55/55 [==============================] - 102s 2s/step - loss: 0.0235 - accuracy: 0.9913 - val_loss: 0.5782 - val_accuracy: 0.8586\n",
      "Epoch 31/50\n",
      "55/55 [==============================] - 104s 2s/step - loss: 0.0240 - accuracy: 0.9925 - val_loss: 2.4989 - val_accuracy: 0.6650\n",
      "Epoch 32/50\n",
      "55/55 [==============================] - 103s 2s/step - loss: 0.0572 - accuracy: 0.9804 - val_loss: 0.8230 - val_accuracy: 0.8189\n",
      "Epoch 33/50\n",
      "55/55 [==============================] - 103s 2s/step - loss: 0.0184 - accuracy: 0.9942 - val_loss: 0.7661 - val_accuracy: 0.8387\n",
      "Epoch 34/50\n",
      "55/55 [==============================] - 102s 2s/step - loss: 0.0136 - accuracy: 0.9965 - val_loss: 0.8520 - val_accuracy: 0.8052\n",
      "Epoch 35/50\n",
      "55/55 [==============================] - 102s 2s/step - loss: 0.0125 - accuracy: 0.9965 - val_loss: 0.7943 - val_accuracy: 0.8102\n",
      "Epoch 36/50\n",
      "55/55 [==============================] - 102s 2s/step - loss: 0.0113 - accuracy: 0.9977 - val_loss: 0.8502 - val_accuracy: 0.7990\n",
      "Epoch 37/50\n",
      "55/55 [==============================] - 103s 2s/step - loss: 0.0188 - accuracy: 0.9948 - val_loss: 4.0543 - val_accuracy: 0.5174\n",
      "Epoch 38/50\n",
      "55/55 [==============================] - 102s 2s/step - loss: 0.0527 - accuracy: 0.9810 - val_loss: 1.2917 - val_accuracy: 0.7171\n",
      "Epoch 39/50\n",
      "55/55 [==============================] - 103s 2s/step - loss: 0.0312 - accuracy: 0.9925 - val_loss: 10.0069 - val_accuracy: 0.5422\n",
      "Epoch 40/50\n",
      "55/55 [==============================] - 103s 2s/step - loss: 0.0777 - accuracy: 0.9740 - val_loss: 0.8273 - val_accuracy: 0.8387\n",
      "Epoch 41/50\n",
      "55/55 [==============================] - 102s 2s/step - loss: 0.0293 - accuracy: 0.9908 - val_loss: 0.6482 - val_accuracy: 0.8424\n",
      "Epoch 42/50\n",
      "55/55 [==============================] - 102s 2s/step - loss: 0.0323 - accuracy: 0.9885 - val_loss: 2.2659 - val_accuracy: 0.6973\n",
      "Epoch 43/50\n",
      "55/55 [==============================] - 102s 2s/step - loss: 0.0467 - accuracy: 0.9821 - val_loss: 1.5596 - val_accuracy: 0.7320\n",
      "Epoch 44/50\n",
      "55/55 [==============================] - 103s 2s/step - loss: 0.0529 - accuracy: 0.9850 - val_loss: 3.5392 - val_accuracy: 0.4479\n",
      "Epoch 45/50\n",
      "55/55 [==============================] - 103s 2s/step - loss: 0.0391 - accuracy: 0.9890 - val_loss: 1.4366 - val_accuracy: 0.6675\n",
      "Epoch 46/50\n",
      "55/55 [==============================] - 102s 2s/step - loss: 0.0330 - accuracy: 0.9890 - val_loss: 1.1686 - val_accuracy: 0.7705\n",
      "Epoch 47/50\n",
      "55/55 [==============================] - 103s 2s/step - loss: 0.0275 - accuracy: 0.9925 - val_loss: 0.9125 - val_accuracy: 0.8052\n",
      "Epoch 48/50\n",
      "55/55 [==============================] - 103s 2s/step - loss: 0.0339 - accuracy: 0.9908 - val_loss: 4.3986 - val_accuracy: 0.4764\n",
      "Epoch 49/50\n",
      "55/55 [==============================] - 102s 2s/step - loss: 0.0711 - accuracy: 0.9827 - val_loss: 0.9460 - val_accuracy: 0.7655\n",
      "Epoch 50/50\n",
      "55/55 [==============================] - 103s 2s/step - loss: 0.0283 - accuracy: 0.9896 - val_loss: 1.0613 - val_accuracy: 0.7407\n"
     ]
    },
    {
     "data": {
      "text/plain": [
       "<tensorflow.python.keras.callbacks.History at 0x25659d0a790>"
      ]
     },
     "execution_count": 28,
     "metadata": {},
     "output_type": "execute_result"
    }
   ],
   "source": [
    "model.fit(Train_X_final, Y_train, epochs=50,validation_data=(TTest_X_final, Y_test),validation_freq = 1,callbacks = [tensorboard_cb])"
   ]
  },
  {
   "cell_type": "code",
   "execution_count": 29,
   "id": "2066f463",
   "metadata": {},
   "outputs": [],
   "source": [
    "X_pred=model.predict(Test_X_F)"
   ]
  },
  {
   "cell_type": "markdown",
   "id": "d0088686",
   "metadata": {},
   "source": [
    "# Evaluación \n"
   ]
  },
  {
   "cell_type": "code",
   "execution_count": 33,
   "id": "30bf7fa4",
   "metadata": {},
   "outputs": [
    {
     "name": "stdout",
     "output_type": "stream",
     "text": [
      "[[132  16   0   0]\n",
      " [ 79 102  52   4]\n",
      " [  0   0 121   7]\n",
      " [  0   0  51 242]]\n"
     ]
    }
   ],
   "source": [
    "cnf_matrix = confusion_matrix(Y_test.argmax(axis=1), Y_test.argmax(axis=1))\n",
    "print(cnf_matrix)"
   ]
  },
  {
   "cell_type": "code",
   "execution_count": 34,
   "id": "eb3d1d2e",
   "metadata": {},
   "outputs": [
    {
     "data": {
      "image/png": "[encoded data removed]",
      "text/plain": [
       "<Figure size 432x288 with 2 Axes>"
      ]
     },
     "metadata": {
      "needs_background": "light"
     },
     "output_type": "display_data"
    }
   ],
   "source": [
    "disp = plot_confusion_matrix(classifier, X_pred, Y_test.argmax(axis=1),\n",
    "                                 #display_labels=class_names,\n",
    "                                 cmap=plt.cm.Blues)\n",
    "plt.show()"
   ]
  },
  {
   "cell_type": "code",
   "execution_count": 35,
   "id": "c7406c68",
   "metadata": {},
   "outputs": [
    {
     "name": "stdout",
     "output_type": "stream",
     "text": [
      "[211 118 224 253]\n",
      "[132 102 121 242]\n",
      "[ 79  16 103  11]\n"
     ]
    }
   ],
   "source": [
    "print(cnf_matrix.sum(axis=0))\n",
    "print(np.diag(cnf_matrix) )\n",
    "print(cnf_matrix.sum(axis=0) - np.diag(cnf_matrix) )"
   ]
  },
  {
   "cell_type": "code",
   "execution_count": 36,
   "id": "ba22c7e1",
   "metadata": {},
   "outputs": [],
   "source": [
    "FP = cnf_matrix.sum(axis=0) - np.diag(cnf_matrix) \n",
    "FN = cnf_matrix.sum(axis=1) - np.diag(cnf_matrix)\n",
    "TP = np.diag(cnf_matrix)\n",
    "TN = cnf_matrix.sum() - (FP + FN + TP)\n",
    "FP = FP.astype(float)\n",
    "FN = FN.astype(float)\n",
    "TP = TP.astype(float)\n",
    "TN = TN.astype(float)\n",
    "# Sensitivity, hit rate, recall, or true positive rate\n",
    "TPR = TP/(TP+FN)\n",
    "# Specificity or true negative rate\n",
    "TNR = TN/(TN+FP) \n",
    "# Precision or positive predictive value\n",
    "PPV = TP/(TP+FP)\n",
    "# Negative predictive value\n",
    "NPV = TN/(TN+FN)\n",
    "# Fall out or false positive rate\n",
    "FPR = FP/(FP+TN)\n",
    "# False negative rate\n",
    "FNR = FN/(TP+FN)\n",
    "# False discovery rate\n",
    "FDR = FP/(TP+FP)\n",
    "# Overall accuracy for each class\n",
    "ACC = (TP+TN)/(TP+FP+FN+TN)"
   ]
  },
  {
   "cell_type": "code",
   "execution_count": 37,
   "id": "b0ab685e",
   "metadata": {},
   "outputs": [
    {
     "name": "stdout",
     "output_type": "stream",
     "text": [
      "              precision    recall  f1-score   support\n",
      "\n",
      "           0      0.626     0.892     0.735       148\n",
      "           1      0.864     0.430     0.575       237\n",
      "           2      0.540     0.945     0.688       128\n",
      "           3      0.957     0.826     0.886       293\n",
      "\n",
      "    accuracy                          0.741       806\n",
      "   macro avg      0.747     0.773     0.721       806\n",
      "weighted avg      0.803     0.741     0.735       806\n",
      "\n"
     ]
    }
   ],
   "source": [
    "# Print the precision and recall, among other metrics\n",
    "print(classification_report(Test_Y_final, predicted_labels, digits=3))"
   ]
  },
  {
   "cell_type": "code",
   "execution_count": null,
   "id": "29a39a00",
   "metadata": {},
   "outputs": [],
   "source": []
  }
 ],
 "metadata": {
  "kernelspec": {
   "display_name": "Python 3 (ipykernel)",
   "language": "python",
   "name": "python3"
  },
  "language_info": {
   "codemirror_mode": {
    "name": "ipython",
    "version": 3
   },
   "file_extension": ".py",
   "mimetype": "text/x-python",
   "name": "python",
   "nbconvert_exporter": "python",
   "pygments_lexer": "ipython3",
   "version": "3.8.5"
  }
 },
 "nbformat": 4,
 "nbformat_minor": 5
}
