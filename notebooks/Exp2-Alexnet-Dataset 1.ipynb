{
 "cells": [
  {
   "cell_type": "code",
   "execution_count": 9,
   "id": "86b7de23",
   "metadata": {},
   "outputs": [],
   "source": [
    "from skimage import io\n",
    "from matplotlib import pyplot as plt\n",
    "from glob import glob\n",
    "import numpy as np\n",
    "from skimage.color import (separate_stains, combine_stains,\n",
    "                            hdx_from_rgb, rgb_from_hdx,rgb2hed, hed2rgb) \n",
    "from skimage.exposure import rescale_intensity\n",
    "from keras.models import Sequential\n",
    "from keras.layers import Dense, Dropout, Conv2D, MaxPool2D, Flatten\n",
    "from keras.utils import np_utils\n",
    "from sklearn.metrics import accuracy_score\n",
    "from sklearn.metrics import confusion_matrix as cm\n",
    "from sklearn.metrics import precision_score,recall_score,accuracy_score, f1_score\n",
    "import matplotlib.pyplot as plt\n",
    "from sklearn.metrics import plot_confusion_matrix\n",
    "from sklearn.metrics import confusion_matrix, classification_report\n",
    "import tensorflow as tf\n",
    "from tensorflow import keras\n",
    "import os\n",
    "import time\n"
   ]
  },
  {
   "cell_type": "markdown",
   "id": "04a69f7a",
   "metadata": {},
   "source": [
    "# Funciones\n"
   ]
  },
  {
   "cell_type": "code",
   "execution_count": 10,
   "id": "4aa247cf",
   "metadata": {},
   "outputs": [],
   "source": [
    "#Leer el conjunto de imagenes\n",
    "def LeerImagenes(imagenes):\n",
    "    imgs=[]\n",
    "    for x in range(0,len(imagenes)):\n",
    "        imgs.append(io.imread(imagenes[x]))\n",
    "    MImagenes=np.array(imgs)\n",
    "    \n",
    "    return MImagenes"
   ]
  },
  {
   "cell_type": "code",
   "execution_count": 11,
   "id": "51c18014",
   "metadata": {},
   "outputs": [],
   "source": [
    "#Crea matriz con las etiquetas de las imagenes\n",
    "def CalculoEtiquetas(imagenes):\n",
    "    Etiquetas=[]\n",
    "    for x in range(0,len(imagenes)):\n",
    "        Clasificacion =imagenes[x].split('-') \n",
    "        for i in range(0,len(Clasificacion)) :\n",
    "            Valores=(Clasificacion[2])\n",
    "            Numero=Valores.split('_')\n",
    "        Etiquetas.append(int(Numero[1]))\n",
    "        #Etiquetas=np.array(etiquetas)\n",
    "    return Etiquetas"
   ]
  },
  {
   "cell_type": "code",
   "execution_count": 12,
   "id": "e98f9713",
   "metadata": {},
   "outputs": [],
   "source": [
    "#Aplico filtro al conjunto de imagenes ingresados cono paramentro\n",
    "def AplicarFiltro(MImagenes):\n",
    "    imgs_con_filtro=[]\n",
    "    for x in range(0,len(MImagenes)):\n",
    "        ihc_hdx = rgb2hed(MImagenes[x])\n",
    "        null = np.zeros_like(ihc_hdx[:, :, 0])\n",
    "        ihc_h = hed2rgb(np.stack((ihc_hdx[:, :, 0], null, null), axis=-1))\n",
    "        ihc_d = hed2rgb(np.stack((null, ihc_hdx[:, :, 1], null), axis=-1))\n",
    "        ihc_x = hed2rgb(np.stack((null, null, ihc_hdx[:, :, 2]), axis=-1))\n",
    "\n",
    "        h = rescale_intensity(ihc_hdx[:, :, 0], out_range=(0, 1),\n",
    "                      in_range=(0, np.percentile(ihc_hdx[:, :, 0], 99)))\n",
    "        d = rescale_intensity(ihc_hdx[:, :, 2], out_range=(0, 1),\n",
    "                      in_range=(0, np.percentile(ihc_hdx[:, :, 2], 99)))\n",
    "    \n",
    "        zdh = np.dstack((null, d, h))\n",
    "        imgs_con_filtro.append(zdh)\n",
    "    Imagenes_con_fitro=np.array(imgs_con_filtro)\n",
    "    return Imagenes_con_fitro"
   ]
  },
  {
   "cell_type": "code",
   "execution_count": 13,
   "id": "fcc331ee",
   "metadata": {},
   "outputs": [],
   "source": [
    "#Obtiene el canal DAB de las imagenes representativas ingresadas\n",
    "def ImagenDAB(MImagenes):\n",
    "    imgs_DAB=[]\n",
    "    for x in range(0,len(MImagenes)):\n",
    "        ihc_hdx = rgb2hed(MImagenes[x])\n",
    "        null = np.zeros_like(ihc_hdx[:, :, 0])\n",
    "        #Seleccionó solo el canal DAB\n",
    "        ihc_x = hed2rgb(np.stack((null, null, ihc_hdx[:, :, 2]), axis=-1)) \n",
    "        #Guardo solo el canal DAB \n",
    "        imgs_DAB.append(ihc_x)\n",
    "    Imagenes_DAB=np.array(imgs_DAB)\n",
    "    return Imagenes_DAB"
   ]
  },
  {
   "cell_type": "code",
   "execution_count": 14,
   "id": "137e4042",
   "metadata": {},
   "outputs": [],
   "source": [
    "#Obtiene los valores promedios de cada clase y los valores min y max de estos, segun las imagenes representativas ingresadas\n",
    "\n",
    "def CalculoPromedios(Imagenes_DAB,Etiquetas):\n",
    "    Prom0=[]\n",
    "    Prom1=[]\n",
    "    Prom2=[]\n",
    "    Prom3=[]\n",
    "    Prom_imgs=[]\n",
    "    for x in range(0,len(Imagenes_DAB)):\n",
    "        Promedio=np.mean(Imagenes_DAB[x])\n",
    "        Prom_imgs.append(Promedio)\n",
    "    for x in range(0,len(Etiquetas)):\n",
    "        if Etiquetas[x]==0:\n",
    "            Prom0.append(Prom_imgs[x])\n",
    "        elif Etiquetas[x]==1:\n",
    "            Prom1.append(Prom_imgs[x])\n",
    "        elif Etiquetas[x]==2:\n",
    "            Prom2.append(Prom_imgs[x])\n",
    "        elif Etiquetas[x]==3:   \n",
    "            Prom3.append(Prom_imgs[x])\n",
    "        else:\n",
    "            print(\"Error en la etiqueta\") \n",
    "    Min0=min(Prom0)        \n",
    "    Max0=max(Prom0)\n",
    "    Min1=min(Prom1)\n",
    "    Max1=max(Prom1)\n",
    "    Min2=min(Prom2)\n",
    "    Max2=max(Prom2)\n",
    "    Min3=min(Prom3)\n",
    "    Max3=max(Prom3)\n",
    "    return Min0,Max0,Min1,Max1,Min2,Max2,Min3,Max3"
   ]
  },
  {
   "cell_type": "code",
   "execution_count": 15,
   "id": "8f2e341b",
   "metadata": {},
   "outputs": [],
   "source": [
    "#Filtra, quitando las imagenes que no cumplan con los valores asignados para su clase, retornando el conjunto de imagenes que \n",
    "#cumplen con los requisitos\n",
    "\n",
    "def SemiFiltro(Imagenes,Etiquetas,Min0,Max0,Min1,Max1,Min2,Max2,Min3,Max3):\n",
    "    Imgs=[]\n",
    "    etqs=[]\n",
    "    Imgs_DAB=ImagenDAB(Imagenes)\n",
    "            \n",
    "    for x in range(0,len(Imagenes)):\n",
    "        Promedio=np.mean(Imgs_DAB[x])\n",
    "        if Etiquetas[x]==0:\n",
    "            if Promedio>=Min0 and Promedio<=Max0:\n",
    "                Imgs.append(Imagenes[x])\n",
    "                etqs.append(Etiquetas[x])\n",
    "        elif Etiquetas[x]==1:\n",
    "            if Promedio>=Min1 and Promedio<=Max1:\n",
    "                Imgs.append(Imagenes[x])\n",
    "                etqs.append(Etiquetas[x])\n",
    "        elif Etiquetas[x]==2:\n",
    "            if Promedio>=Min2 and Promedio<=Max2:\n",
    "                Imgs.append(Imagenes[x])\n",
    "                etqs.append(Etiquetas[x])\n",
    "        elif Etiquetas[x]==3:   \n",
    "            if Promedio>=Min3 and Promedio<=Max3:\n",
    "                Imgs.append(Imagenes[x])\n",
    "                etqs.append(Etiquetas[x])\n",
    "        else:\n",
    "            print(\"Error en la etiqueta\")\n",
    "    Imagenes=np.array(Imgs)\n",
    "    Etqs=np.array(etqs)\n",
    "    return Imagenes,Etqs             \n",
    "            "
   ]
  },
  {
   "cell_type": "code",
   "execution_count": 16,
   "id": "5a730a13",
   "metadata": {},
   "outputs": [],
   "source": [
    "# Constantes\n",
    "data_source = \"../data(1000)/\"\n",
    "models_dir = '../saved_models/'\n",
    "train_imgs = glob(f\"{data_source}training/*.png\")\n",
    "test_imgs = glob(f\"{data_source}test/*.png\")\n",
    "I_representativas=glob(f\"{data_source}Imagenes_representativas/*.png\")"
   ]
  },
  {
   "cell_type": "code",
   "execution_count": 17,
   "id": "52f27d4c",
   "metadata": {},
   "outputs": [],
   "source": [
    "#leer imagenes\n",
    "Imagenes_rep=LeerImagenes(I_representativas)\n",
    "Etiquetas_rep=CalculoEtiquetas(I_representativas)\n",
    "X_train=LeerImagenes(train_imgs)\n",
    "y_train=CalculoEtiquetas(train_imgs)\n",
    "X_test=LeerImagenes(test_imgs)\n",
    "y_test=CalculoEtiquetas(test_imgs)"
   ]
  },
  {
   "cell_type": "code",
   "execution_count": 18,
   "id": "512940f3",
   "metadata": {},
   "outputs": [],
   "source": [
    "ImagenesDAB=ImagenDAB(Imagenes_rep)\n",
    "Min0,Max0,Min1,Max1,Min2,Max2,Min3,Max3=CalculoPromedios(ImagenesDAB,Etiquetas_rep)\n",
    "Train_X_final,Train_Y_final=SemiFiltro(X_train,y_train,Min0,Max0,Min1,Max1,Min2,Max2,Min3,Max3)\n",
    "Test_X_final,Test_Y_final=SemiFiltro(X_test,y_test,Min0,Max0,Min1,Max1,Min2,Max2,Min3,Max3)   "
   ]
  },
  {
   "cell_type": "code",
   "execution_count": 19,
   "id": "1684417d",
   "metadata": {},
   "outputs": [
    {
     "name": "stdout",
     "output_type": "stream",
     "text": [
      "1600\n",
      "1143\n"
     ]
    }
   ],
   "source": [
    "print(len(X_train))\n",
    "print(len(Train_X_final))"
   ]
  },
  {
   "cell_type": "code",
   "execution_count": 20,
   "id": "1aebbb6a",
   "metadata": {},
   "outputs": [],
   "source": [
    "n_classes = 4\n",
    "Y_train = np_utils.to_categorical(Train_Y_final, n_classes)\n",
    "Y_test = np_utils.to_categorical(Test_Y_final, n_classes)"
   ]
  },
  {
   "cell_type": "code",
   "execution_count": 21,
   "id": "0dfb443d",
   "metadata": {},
   "outputs": [],
   "source": [
    "Train_X_F=AplicarFiltro(Train_X_final)\n",
    "Test_X_F=AplicarFiltro(Test_X_final)"
   ]
  },
  {
   "cell_type": "markdown",
   "id": "b4d76163",
   "metadata": {},
   "source": [
    "# Creación de CNN"
   ]
  },
  {
   "cell_type": "code",
   "execution_count": 22,
   "id": "fe9c4867",
   "metadata": {},
   "outputs": [
    {
     "name": "stdout",
     "output_type": "stream",
     "text": [
      "Model: \"sequential\"\n",
      "_________________________________________________________________\n",
      "Layer (type)                 Output Shape              Param #   \n",
      "=================================================================\n",
      "conv2d (Conv2D)              (None, 73, 73, 96)        34944     \n",
      "_________________________________________________________________\n",
      "batch_normalization (BatchNo (None, 73, 73, 96)        384       \n",
      "_________________________________________________________________\n",
      "max_pooling2d (MaxPooling2D) (None, 36, 36, 96)        0         \n",
      "_________________________________________________________________\n",
      "conv2d_1 (Conv2D)            (None, 36, 36, 256)       614656    \n",
      "_________________________________________________________________\n",
      "batch_normalization_1 (Batch (None, 36, 36, 256)       1024      \n",
      "_________________________________________________________________\n",
      "max_pooling2d_1 (MaxPooling2 (None, 17, 17, 256)       0         \n",
      "_________________________________________________________________\n",
      "conv2d_2 (Conv2D)            (None, 17, 17, 384)       885120    \n",
      "_________________________________________________________________\n",
      "batch_normalization_2 (Batch (None, 17, 17, 384)       1536      \n",
      "_________________________________________________________________\n",
      "conv2d_3 (Conv2D)            (None, 17, 17, 384)       1327488   \n",
      "_________________________________________________________________\n",
      "batch_normalization_3 (Batch (None, 17, 17, 384)       1536      \n",
      "_________________________________________________________________\n",
      "conv2d_4 (Conv2D)            (None, 17, 17, 256)       884992    \n",
      "_________________________________________________________________\n",
      "batch_normalization_4 (Batch (None, 17, 17, 256)       1024      \n",
      "_________________________________________________________________\n",
      "max_pooling2d_2 (MaxPooling2 (None, 8, 8, 256)         0         \n",
      "_________________________________________________________________\n",
      "flatten (Flatten)            (None, 16384)             0         \n",
      "_________________________________________________________________\n",
      "dense (Dense)                (None, 4096)              67112960  \n",
      "_________________________________________________________________\n",
      "dropout (Dropout)            (None, 4096)              0         \n",
      "_________________________________________________________________\n",
      "dense_1 (Dense)              (None, 4096)              16781312  \n",
      "_________________________________________________________________\n",
      "dropout_1 (Dropout)          (None, 4096)              0         \n",
      "_________________________________________________________________\n",
      "dense_2 (Dense)              (None, 4)                 16388     \n",
      "=================================================================\n",
      "Total params: 87,663,364\n",
      "Trainable params: 87,660,612\n",
      "Non-trainable params: 2,752\n",
      "_________________________________________________________________\n"
     ]
    }
   ],
   "source": [
    "model = keras.models.Sequential([\n",
    "    keras.layers.Conv2D(filters=96, kernel_size=(11,11), strides=(4,4), activation='relu', input_shape=(300,300,3)),\n",
    "    keras.layers.BatchNormalization(),\n",
    "    keras.layers.MaxPool2D(pool_size=(3,3), strides=(2,2)),\n",
    "    keras.layers.Conv2D(filters=256, kernel_size=(5,5), strides=(1,1), activation='relu', padding=\"same\"),\n",
    "    keras.layers.BatchNormalization(),\n",
    "    keras.layers.MaxPool2D(pool_size=(3,3), strides=(2,2)),\n",
    "    keras.layers.Conv2D(filters=384, kernel_size=(3,3), strides=(1,1), activation='relu', padding=\"same\"),\n",
    "    keras.layers.BatchNormalization(),\n",
    "    keras.layers.Conv2D(filters=384, kernel_size=(3,3), strides=(1,1), activation='relu', padding=\"same\"),\n",
    "    keras.layers.BatchNormalization(),\n",
    "    keras.layers.Conv2D(filters=256, kernel_size=(3,3), strides=(1,1), activation='relu', padding=\"same\"),\n",
    "    keras.layers.BatchNormalization(),\n",
    "    keras.layers.MaxPool2D(pool_size=(3,3), strides=(2,2)),\n",
    "    keras.layers.Flatten(),\n",
    "    keras.layers.Dense(4096, activation='relu'),\n",
    "    keras.layers.Dropout(0.5),\n",
    "    keras.layers.Dense(4096, activation='relu'),\n",
    "    keras.layers.Dropout(0.5),\n",
    "    keras.layers.Dense(4, activation='softmax')\n",
    "])\n",
    "model.summary()"
   ]
  },
  {
   "cell_type": "code",
   "execution_count": 23,
   "id": "9c4b7ae6",
   "metadata": {},
   "outputs": [],
   "source": [
    "root_logdir = os.path.join(os.curdir, \"logs\\\\fit\\\\\")\n",
    "def get_run_logdir():\n",
    "    run_id = time.strftime(\"run_%Y_%m_%d-%H_%M_%S\")\n",
    "    return os.path.join(root_logdir, run_id)\n",
    "run_logdir = get_run_logdir()\n",
    "tensorboard_cb = keras.callbacks.TensorBoard(run_logdir)"
   ]
  },
  {
   "cell_type": "code",
   "execution_count": 24,
   "id": "3a63d6f9",
   "metadata": {},
   "outputs": [],
   "source": [
    "model.compile(loss='categorical_crossentropy', metrics=['accuracy'], optimizer=tf.optimizers.SGD(lr=0.001))"
   ]
  },
  {
   "cell_type": "code",
   "execution_count": 25,
   "id": "fb941590",
   "metadata": {},
   "outputs": [
    {
     "name": "stdout",
     "output_type": "stream",
     "text": [
      "Epoch 1/50\n",
      " 1/36 [..............................] - ETA: 0s - loss: 3.8030 - accuracy: 0.1875WARNING:tensorflow:From C:\\Users\\camii\\anaconda3\\lib\\site-packages\\tensorflow\\python\\ops\\summary_ops_v2.py:1277: stop (from tensorflow.python.eager.profiler) is deprecated and will be removed after 2020-07-01.\n",
      "Instructions for updating:\n",
      "use `tf.profiler.experimental.stop` instead.\n",
      "36/36 [==============================] - 65s 2s/step - loss: 1.5936 - accuracy: 0.6063 - val_loss: 1.4557 - val_accuracy: 0.2226\n",
      "Epoch 2/50\n",
      "36/36 [==============================] - 64s 2s/step - loss: 0.9902 - accuracy: 0.7323 - val_loss: 1.7932 - val_accuracy: 0.2226\n",
      "Epoch 3/50\n",
      "36/36 [==============================] - 64s 2s/step - loss: 0.5823 - accuracy: 0.8303 - val_loss: 2.3730 - val_accuracy: 0.3509\n",
      "Epoch 4/50\n",
      "36/36 [==============================] - 64s 2s/step - loss: 0.6306 - accuracy: 0.8119 - val_loss: 3.0692 - val_accuracy: 0.4415\n",
      "Epoch 5/50\n",
      "36/36 [==============================] - 63s 2s/step - loss: 0.5237 - accuracy: 0.8364 - val_loss: 3.6928 - val_accuracy: 0.4415\n",
      "Epoch 6/50\n",
      "36/36 [==============================] - 62s 2s/step - loss: 0.4792 - accuracy: 0.8478 - val_loss: 4.0537 - val_accuracy: 0.4604\n",
      "Epoch 7/50\n",
      "36/36 [==============================] - 61s 2s/step - loss: 0.4197 - accuracy: 0.8635 - val_loss: 4.3578 - val_accuracy: 0.4491\n",
      "Epoch 8/50\n",
      "36/36 [==============================] - 61s 2s/step - loss: 0.2895 - accuracy: 0.9020 - val_loss: 4.7617 - val_accuracy: 0.4566\n",
      "Epoch 9/50\n",
      "36/36 [==============================] - 61s 2s/step - loss: 0.2938 - accuracy: 0.9003 - val_loss: 4.9157 - val_accuracy: 0.4264\n",
      "Epoch 10/50\n",
      "36/36 [==============================] - 61s 2s/step - loss: 0.3075 - accuracy: 0.8985 - val_loss: 5.2675 - val_accuracy: 0.4453\n",
      "Epoch 11/50\n",
      "36/36 [==============================] - 61s 2s/step - loss: 0.2406 - accuracy: 0.9125 - val_loss: 5.3042 - val_accuracy: 0.4566\n",
      "Epoch 12/50\n",
      "36/36 [==============================] - 61s 2s/step - loss: 0.2735 - accuracy: 0.9073 - val_loss: 4.9403 - val_accuracy: 0.4415\n",
      "Epoch 13/50\n",
      "36/36 [==============================] - 61s 2s/step - loss: 0.2175 - accuracy: 0.9239 - val_loss: 5.1083 - val_accuracy: 0.4264\n",
      "Epoch 14/50\n",
      "36/36 [==============================] - 61s 2s/step - loss: 0.2085 - accuracy: 0.9204 - val_loss: 3.4094 - val_accuracy: 0.4642\n",
      "Epoch 15/50\n",
      "36/36 [==============================] - 61s 2s/step - loss: 0.2133 - accuracy: 0.9256 - val_loss: 3.5901 - val_accuracy: 0.4679\n",
      "Epoch 16/50\n",
      "36/36 [==============================] - 64s 2s/step - loss: 0.1636 - accuracy: 0.9449 - val_loss: 3.1205 - val_accuracy: 0.5094\n",
      "Epoch 17/50\n",
      "36/36 [==============================] - 64s 2s/step - loss: 0.1505 - accuracy: 0.9431 - val_loss: 3.0699 - val_accuracy: 0.5094\n",
      "Epoch 18/50\n",
      "36/36 [==============================] - 64s 2s/step - loss: 0.1437 - accuracy: 0.9440 - val_loss: 0.9631 - val_accuracy: 0.7170\n",
      "Epoch 19/50\n",
      "36/36 [==============================] - 64s 2s/step - loss: 0.1316 - accuracy: 0.9484 - val_loss: 0.4949 - val_accuracy: 0.8189\n",
      "Epoch 20/50\n",
      "36/36 [==============================] - 65s 2s/step - loss: 0.1394 - accuracy: 0.9510 - val_loss: 0.9147 - val_accuracy: 0.8151\n",
      "Epoch 21/50\n",
      "36/36 [==============================] - 64s 2s/step - loss: 0.1295 - accuracy: 0.9493 - val_loss: 0.2394 - val_accuracy: 0.9019\n",
      "Epoch 22/50\n",
      "36/36 [==============================] - 64s 2s/step - loss: 0.1010 - accuracy: 0.9589 - val_loss: 0.4299 - val_accuracy: 0.8642\n",
      "Epoch 23/50\n",
      "36/36 [==============================] - 64s 2s/step - loss: 0.1170 - accuracy: 0.9563 - val_loss: 0.1714 - val_accuracy: 0.9472\n",
      "Epoch 24/50\n",
      "36/36 [==============================] - 64s 2s/step - loss: 0.0772 - accuracy: 0.9729 - val_loss: 0.2955 - val_accuracy: 0.9057\n",
      "Epoch 25/50\n",
      "36/36 [==============================] - 64s 2s/step - loss: 0.0865 - accuracy: 0.9720 - val_loss: 0.2771 - val_accuracy: 0.9019\n",
      "Epoch 26/50\n",
      "36/36 [==============================] - 64s 2s/step - loss: 0.1009 - accuracy: 0.9659 - val_loss: 0.5124 - val_accuracy: 0.8604\n",
      "Epoch 27/50\n",
      "36/36 [==============================] - 64s 2s/step - loss: 0.0723 - accuracy: 0.9746 - val_loss: 0.2676 - val_accuracy: 0.9094\n",
      "Epoch 28/50\n",
      "36/36 [==============================] - 64s 2s/step - loss: 0.0757 - accuracy: 0.9694 - val_loss: 0.2987 - val_accuracy: 0.9019\n",
      "Epoch 29/50\n",
      "36/36 [==============================] - 64s 2s/step - loss: 0.0727 - accuracy: 0.9729 - val_loss: 0.2971 - val_accuracy: 0.8981\n",
      "Epoch 30/50\n",
      "36/36 [==============================] - 64s 2s/step - loss: 0.0670 - accuracy: 0.9764 - val_loss: 0.4112 - val_accuracy: 0.8566\n",
      "Epoch 31/50\n",
      "36/36 [==============================] - 64s 2s/step - loss: 0.0656 - accuracy: 0.9703 - val_loss: 0.2519 - val_accuracy: 0.9245\n",
      "Epoch 32/50\n",
      "36/36 [==============================] - 64s 2s/step - loss: 0.0565 - accuracy: 0.9825 - val_loss: 0.8583 - val_accuracy: 0.8377\n",
      "Epoch 33/50\n",
      "36/36 [==============================] - 64s 2s/step - loss: 0.0759 - accuracy: 0.9703 - val_loss: 0.6023 - val_accuracy: 0.8566\n",
      "Epoch 34/50\n",
      "36/36 [==============================] - 64s 2s/step - loss: 0.0591 - accuracy: 0.9799 - val_loss: 0.5859 - val_accuracy: 0.8604\n",
      "Epoch 35/50\n",
      "36/36 [==============================] - 64s 2s/step - loss: 0.0617 - accuracy: 0.9746 - val_loss: 0.2424 - val_accuracy: 0.9283\n",
      "Epoch 36/50\n",
      "36/36 [==============================] - 64s 2s/step - loss: 0.0402 - accuracy: 0.9869 - val_loss: 0.4266 - val_accuracy: 0.8755\n",
      "Epoch 37/50\n",
      "36/36 [==============================] - 64s 2s/step - loss: 0.0658 - accuracy: 0.9781 - val_loss: 0.3424 - val_accuracy: 0.9019\n",
      "Epoch 38/50\n",
      "36/36 [==============================] - 64s 2s/step - loss: 0.0572 - accuracy: 0.9790 - val_loss: 0.3214 - val_accuracy: 0.9094\n",
      "Epoch 39/50\n",
      "36/36 [==============================] - 64s 2s/step - loss: 0.0517 - accuracy: 0.9799 - val_loss: 0.2312 - val_accuracy: 0.9396\n",
      "Epoch 40/50\n",
      "36/36 [==============================] - 64s 2s/step - loss: 0.0379 - accuracy: 0.9869 - val_loss: 0.2203 - val_accuracy: 0.9434\n",
      "Epoch 41/50\n",
      "36/36 [==============================] - 65s 2s/step - loss: 0.0371 - accuracy: 0.9843 - val_loss: 0.5219 - val_accuracy: 0.8642\n",
      "Epoch 42/50\n",
      "36/36 [==============================] - 64s 2s/step - loss: 0.0413 - accuracy: 0.9851 - val_loss: 0.3570 - val_accuracy: 0.9019\n",
      "Epoch 43/50\n",
      "36/36 [==============================] - 64s 2s/step - loss: 0.0289 - accuracy: 0.9886 - val_loss: 0.3989 - val_accuracy: 0.8868\n",
      "Epoch 44/50\n",
      "36/36 [==============================] - 64s 2s/step - loss: 0.0285 - accuracy: 0.9904 - val_loss: 0.2480 - val_accuracy: 0.9019\n",
      "Epoch 45/50\n",
      "36/36 [==============================] - 64s 2s/step - loss: 0.0354 - accuracy: 0.9886 - val_loss: 0.2661 - val_accuracy: 0.9208\n",
      "Epoch 46/50\n",
      "36/36 [==============================] - 64s 2s/step - loss: 0.0336 - accuracy: 0.9869 - val_loss: 0.2447 - val_accuracy: 0.9358\n",
      "Epoch 47/50\n",
      "36/36 [==============================] - 64s 2s/step - loss: 0.0246 - accuracy: 0.9913 - val_loss: 0.3021 - val_accuracy: 0.9132\n",
      "Epoch 48/50\n",
      "36/36 [==============================] - 64s 2s/step - loss: 0.0398 - accuracy: 0.9834 - val_loss: 0.5573 - val_accuracy: 0.8604\n",
      "Epoch 49/50\n",
      "36/36 [==============================] - 64s 2s/step - loss: 0.0304 - accuracy: 0.9886 - val_loss: 0.2360 - val_accuracy: 0.9208\n",
      "Epoch 50/50\n",
      "36/36 [==============================] - 64s 2s/step - loss: 0.0324 - accuracy: 0.9895 - val_loss: 0.7277 - val_accuracy: 0.7887\n"
     ]
    },
    {
     "data": {
      "text/plain": [
       "<tensorflow.python.keras.callbacks.History at 0x2cda3701d60>"
      ]
     },
     "execution_count": 25,
     "metadata": {},
     "output_type": "execute_result"
    }
   ],
   "source": [
    "model.fit(Train_X_F, Y_train, epochs=50,validation_data=(Test_X_F, Y_test),validation_freq = 1,callbacks = [tensorboard_cb])"
   ]
  },
  {
   "cell_type": "code",
   "execution_count": 26,
   "id": "2066f463",
   "metadata": {},
   "outputs": [],
   "source": [
    "X_pred=model.predict(Test_X_F)"
   ]
  },
  {
   "cell_type": "markdown",
   "id": "d0088686",
   "metadata": {},
   "source": [
    "# Evaluación \n"
   ]
  },
  {
   "cell_type": "code",
   "execution_count": 30,
   "id": "30bf7fa4",
   "metadata": {},
   "outputs": [
    {
     "name": "stdout",
     "output_type": "stream",
     "text": [
      "[[65  0  0  0]\n",
      " [10 31  3 15]\n",
      " [ 0 10 34 18]\n",
      " [ 0  0  0 79]]\n"
     ]
    }
   ],
   "source": [
    "cnf_matrix = confusion_matrix(Y_test.argmax(axis=1), Y_test.argmax(axis=1))\n",
    "print(cnf_matrix)"
   ]
  },
  {
   "cell_type": "code",
   "execution_count": 31,
   "id": "eb3d1d2e",
   "metadata": {},
   "outputs": [
    {
     "data": {
      "image/png": "[encoded data removed]",
      "text/plain": [
       "<Figure size 432x288 with 2 Axes>"
      ]
     },
     "metadata": {
      "needs_background": "light"
     },
     "output_type": "display_data"
    }
   ],
   "source": [
    "disp = plot_confusion_matrix(classifier, X_pred, Y_test.argmax(axis=1),\n",
    "                                 #display_labels=class_names,\n",
    "                                 cmap=plt.cm.Blues)\n",
    "plt.show()"
   ]
  },
  {
   "cell_type": "code",
   "execution_count": 32,
   "id": "c7406c68",
   "metadata": {},
   "outputs": [
    {
     "name": "stdout",
     "output_type": "stream",
     "text": [
      "[ 75  41  37 112]\n",
      "[65 31 34 79]\n",
      "[10 10  3 33]\n"
     ]
    }
   ],
   "source": [
    "print(cnf_matrix.sum(axis=0))\n",
    "print(np.diag(cnf_matrix) )\n",
    "print(cnf_matrix.sum(axis=0) - np.diag(cnf_matrix) )"
   ]
  },
  {
   "cell_type": "code",
   "execution_count": 33,
   "id": "ba22c7e1",
   "metadata": {},
   "outputs": [],
   "source": [
    "FP = cnf_matrix.sum(axis=0) - np.diag(cnf_matrix) \n",
    "FN = cnf_matrix.sum(axis=1) - np.diag(cnf_matrix)\n",
    "TP = np.diag(cnf_matrix)\n",
    "TN = cnf_matrix.sum() - (FP + FN + TP)\n",
    "FP = FP.astype(float)\n",
    "FN = FN.astype(float)\n",
    "TP = TP.astype(float)\n",
    "TN = TN.astype(float)\n",
    "# Sensitivity, hit rate, recall, or true positive rate\n",
    "TPR = TP/(TP+FN)\n",
    "# Specificity or true negative rate\n",
    "TNR = TN/(TN+FP) \n",
    "# Precision or positive predictive value\n",
    "PPV = TP/(TP+FP)\n",
    "# Negative predictive value\n",
    "NPV = TN/(TN+FN)\n",
    "# Fall out or false positive rate\n",
    "FPR = FP/(FP+TN)\n",
    "# False negative rate\n",
    "FNR = FN/(TP+FN)\n",
    "# False discovery rate\n",
    "FDR = FP/(TP+FP)\n",
    "# Overall accuracy for each class\n",
    "ACC = (TP+TN)/(TP+FP+FN+TN)"
   ]
  },
  {
   "cell_type": "code",
   "execution_count": 34,
   "id": "b0ab685e",
   "metadata": {},
   "outputs": [
    {
     "name": "stdout",
     "output_type": "stream",
     "text": [
      "              precision    recall  f1-score   support\n",
      "\n",
      "           0      0.867     1.000     0.929        65\n",
      "           1      0.756     0.525     0.620        59\n",
      "           2      0.919     0.548     0.687        62\n",
      "           3      0.705     1.000     0.827        79\n",
      "\n",
      "    accuracy                          0.789       265\n",
      "   macro avg      0.812     0.768     0.766       265\n",
      "weighted avg      0.806     0.789     0.773       265\n",
      "\n"
     ]
    }
   ],
   "source": [
    "# Print the precision and recall, among other metrics\n",
    "print(classification_report(Test_Y_final, predicted_labels, digits=3))"
   ]
  },
  {
   "cell_type": "code",
   "execution_count": null,
   "id": "29a39a00",
   "metadata": {},
   "outputs": [],
   "source": []
  }
 ],
 "metadata": {
  "kernelspec": {
   "display_name": "Python 3 (ipykernel)",
   "language": "python",
   "name": "python3"
  },
  "language_info": {
   "codemirror_mode": {
    "name": "ipython",
    "version": 3
   },
   "file_extension": ".py",
   "mimetype": "text/x-python",
   "name": "python",
   "nbconvert_exporter": "python",
   "pygments_lexer": "ipython3",
   "version": "3.8.5"
  }
 },
 "nbformat": 4,
 "nbformat_minor": 5
}
