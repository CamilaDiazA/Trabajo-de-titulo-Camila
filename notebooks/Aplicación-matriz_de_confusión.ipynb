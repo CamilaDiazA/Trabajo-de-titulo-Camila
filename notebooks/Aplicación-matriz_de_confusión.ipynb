{
 "cells": [
  {
   "cell_type": "code",
   "execution_count": 2,
   "id": "598d629b",
   "metadata": {},
   "outputs": [],
   "source": [
    "from keras.models import Sequential\n",
    "from keras.layers import Dense, Dropout, Conv2D, MaxPool2D, Flatten\n",
    "from keras.utils import np_utils\n",
    "from sklearn.metrics import accuracy_score\n",
    "from matplotlib import pyplot as plt\n",
    "from glob import glob\n",
    "from skimage import io\n",
    "import numpy as np\n",
    "from sklearn.metrics import confusion_matrix as cm\n",
    "from sklearn.metrics import precision_score,recall_score,accuracy_score, f1_score\n",
    "import numpy as np\n",
    "import matplotlib.pyplot as plt\n",
    "from sklearn.metrics import plot_confusion_matrix\n",
    "from sklearn.metrics import confusion_matrix, classification_report\n",
    "from sklearn import svm, datasets"
   ]
  },
  {
   "cell_type": "markdown",
   "id": "2c11c15a",
   "metadata": {},
   "source": [
    "# Funciones"
   ]
  },
  {
   "cell_type": "code",
   "execution_count": 3,
   "id": "cede4fe6",
   "metadata": {},
   "outputs": [],
   "source": [
    "#Leer el conjunto de imagenes\n",
    "def LeerImagenes(imagenes):\n",
    "    imgs=[]\n",
    "    for x in range(0,len(imagenes)):\n",
    "        imgs.append(io.imread(imagenes[x]))\n",
    "    MImagenes=np.array(imgs)\n",
    "    \n",
    "    return MImagenes"
   ]
  },
  {
   "cell_type": "code",
   "execution_count": 4,
   "id": "ccbbd25d",
   "metadata": {},
   "outputs": [],
   "source": [
    "#Crea matriz con las etiquetas de las imagenes\n",
    "def Etiquetas(imagenes):\n",
    "    etiquetas=[]\n",
    "    for x in range(0,len(imagenes)):\n",
    "        Clasificacion =imagenes[x].split('-') \n",
    "        for i in range(0,len(Clasificacion)) :\n",
    "            Valores=(Clasificacion[2])\n",
    "            Numero=Valores.split('_')\n",
    "        etiquetas.append(int(Numero[1]))\n",
    "    return etiquetas"
   ]
  },
  {
   "cell_type": "markdown",
   "id": "68fbe52d",
   "metadata": {},
   "source": [
    "# PREPROCESAMIENTO"
   ]
  },
  {
   "cell_type": "code",
   "execution_count": 5,
   "id": "47bcabf3",
   "metadata": {},
   "outputs": [],
   "source": [
    "# loading the dataset\n",
    "data_source = \"../data/\"\n",
    "train_imgs = glob(f\"{data_source}training/*.png\")\n",
    "test_imgs = glob(f\"{data_source}test/*.png\")"
   ]
  },
  {
   "cell_type": "code",
   "execution_count": 6,
   "id": "aa8db160",
   "metadata": {},
   "outputs": [],
   "source": [
    "X_train=LeerImagenes(train_imgs)\n",
    "y_train=Etiquetas(train_imgs)\n",
    "X_test=LeerImagenes(test_imgs)\n",
    "y_test=Etiquetas(test_imgs)"
   ]
  },
  {
   "cell_type": "code",
   "execution_count": 7,
   "id": "bb748238",
   "metadata": {},
   "outputs": [
    {
     "name": "stdout",
     "output_type": "stream",
     "text": [
      "[0. 0. 0. 1.]\n"
     ]
    }
   ],
   "source": [
    "n_classes = 4\n",
    "Y_train = np_utils.to_categorical(y_train, n_classes)\n",
    "Y_test = np_utils.to_categorical(y_test, n_classes)\n",
    "print(Y_train[1])"
   ]
  },
  {
   "cell_type": "code",
   "execution_count": 8,
   "id": "53f78d3a",
   "metadata": {},
   "outputs": [],
   "source": [
    "X_train = X_train.astype('float32')\n",
    "X_test = X_test.astype('float32')"
   ]
  },
  {
   "cell_type": "code",
   "execution_count": 8,
   "id": "b6e1af4d",
   "metadata": {},
   "outputs": [
    {
     "name": "stdout",
     "output_type": "stream",
     "text": [
      "1600\n",
      "200\n"
     ]
    }
   ],
   "source": [
    "print(len(X_train))\n",
    "print(len(X_test))"
   ]
  },
  {
   "cell_type": "markdown",
   "id": "1a710e96",
   "metadata": {},
   "source": [
    "# Creación de CNN"
   ]
  },
  {
   "cell_type": "code",
   "execution_count": 9,
   "id": "5d289d41",
   "metadata": {},
   "outputs": [],
   "source": [
    "# building a linear stack of layers with the sequential model\n",
    "model = Sequential()\n",
    "# convolutional layer\n",
    "model.add(Conv2D(25, kernel_size=(3,3), strides=(1,1), padding='valid', activation='relu', input_shape=(300,300,3)))\n",
    "model.add(MaxPool2D(pool_size=(1,1)))\n",
    "# flatten output of conv\n",
    "model.add(Flatten())\n",
    "# hidden layer\n",
    "model.add(Dense(100, activation='relu'))\n",
    "# output layer\n",
    "model.add(Dense(4, activation='softmax'))"
   ]
  },
  {
   "cell_type": "code",
   "execution_count": 10,
   "id": "57d02f76",
   "metadata": {},
   "outputs": [
    {
     "name": "stdout",
     "output_type": "stream",
     "text": [
      "Epoch 1/10\n",
      "13/13 [==============================] - 50s 4s/step - loss: 49500.2539 - accuracy: 0.2669 - val_loss: 37773.2656 - val_accuracy: 0.2500\n",
      "Epoch 2/10\n",
      "13/13 [==============================] - 42s 3s/step - loss: 19340.2266 - accuracy: 0.3200 - val_loss: 6500.4932 - val_accuracy: 0.2750\n",
      "Epoch 3/10\n",
      "13/13 [==============================] - 42s 3s/step - loss: 5546.1118 - accuracy: 0.3913 - val_loss: 3619.9731 - val_accuracy: 0.4600\n",
      "Epoch 4/10\n",
      "13/13 [==============================] - 42s 3s/step - loss: 2627.3501 - accuracy: 0.5169 - val_loss: 1478.8007 - val_accuracy: 0.5350\n",
      "Epoch 5/10\n",
      "13/13 [==============================] - 42s 3s/step - loss: 1160.0449 - accuracy: 0.5437 - val_loss: 1633.0459 - val_accuracy: 0.4950\n",
      "Epoch 6/10\n",
      "13/13 [==============================] - 42s 3s/step - loss: 827.1815 - accuracy: 0.5738 - val_loss: 945.9612 - val_accuracy: 0.5850\n",
      "Epoch 7/10\n",
      "13/13 [==============================] - 41s 3s/step - loss: 551.4188 - accuracy: 0.5619 - val_loss: 658.4056 - val_accuracy: 0.4750\n",
      "Epoch 8/10\n",
      "13/13 [==============================] - 41s 3s/step - loss: 308.6070 - accuracy: 0.6369 - val_loss: 778.8502 - val_accuracy: 0.5100\n",
      "Epoch 9/10\n",
      "13/13 [==============================] - 42s 3s/step - loss: 292.2147 - accuracy: 0.6988 - val_loss: 469.4640 - val_accuracy: 0.6350\n",
      "Epoch 10/10\n",
      "13/13 [==============================] - 42s 3s/step - loss: 135.3418 - accuracy: 0.7281 - val_loss: 212.3347 - val_accuracy: 0.6000\n"
     ]
    },
    {
     "data": {
      "text/plain": [
       "<tensorflow.python.keras.callbacks.History at 0x1dbf3daeac0>"
      ]
     },
     "execution_count": 10,
     "metadata": {},
     "output_type": "execute_result"
    }
   ],
   "source": [
    "# compiling the sequential model\n",
    "model.compile(loss='categorical_crossentropy', metrics=['accuracy'], optimizer='adam')\n",
    "# training the model for 10 epochs\n",
    "model.fit(X_train, Y_train, batch_size=128, epochs=10, validation_data=(X_test, Y_test))"
   ]
  },
  {
   "cell_type": "code",
   "execution_count": 11,
   "id": "2dcb5078",
   "metadata": {},
   "outputs": [],
   "source": [
    "X_pred=model.predict(X_test)"
   ]
  },
  {
   "cell_type": "markdown",
   "id": "efb787bc",
   "metadata": {},
   "source": [
    "# Evaluación "
   ]
  },
  {
   "cell_type": "code",
   "execution_count": 12,
   "id": "eb43c1ef",
   "metadata": {},
   "outputs": [
    {
     "name": "stdout",
     "output_type": "stream",
     "text": [
      "[[2.4653363e-23 1.0000000e+00 0.0000000e+00 0.0000000e+00]\n",
      " [0.0000000e+00 1.0000000e+00 0.0000000e+00 0.0000000e+00]\n",
      " [1.0000000e+00 4.0627820e-13 0.0000000e+00 0.0000000e+00]\n",
      " [7.7812289e-33 1.0000000e+00 0.0000000e+00 0.0000000e+00]\n",
      " [0.0000000e+00 1.0000000e+00 0.0000000e+00 0.0000000e+00]\n",
      " [1.0000000e+00 1.2572942e-15 0.0000000e+00 0.0000000e+00]\n",
      " [9.9993861e-01 6.1342595e-05 0.0000000e+00 0.0000000e+00]\n",
      " [0.0000000e+00 0.0000000e+00 1.0000000e+00 0.0000000e+00]\n",
      " [0.0000000e+00 0.0000000e+00 1.0000000e+00 0.0000000e+00]\n",
      " [1.0000000e+00 2.3812697e-15 0.0000000e+00 0.0000000e+00]\n",
      " [1.0000000e+00 6.3375259e-16 0.0000000e+00 0.0000000e+00]\n",
      " [1.0000000e+00 3.7764145e-12 3.7067830e-32 0.0000000e+00]\n",
      " [9.9999988e-01 5.9913070e-08 0.0000000e+00 0.0000000e+00]\n",
      " [1.1505224e-24 1.0000000e+00 8.8023550e-28 0.0000000e+00]\n",
      " [2.2061089e-28 1.0000000e+00 0.0000000e+00 0.0000000e+00]\n",
      " [9.3016950e-10 1.0000000e+00 0.0000000e+00 0.0000000e+00]\n",
      " [4.5524426e-21 1.0000000e+00 0.0000000e+00 0.0000000e+00]\n",
      " [3.5709256e-27 1.0000000e+00 0.0000000e+00 0.0000000e+00]\n",
      " [2.0199424e-20 1.0000000e+00 0.0000000e+00 0.0000000e+00]\n",
      " [2.3917202e-38 1.0000000e+00 0.0000000e+00 0.0000000e+00]\n",
      " [0.0000000e+00 0.0000000e+00 0.0000000e+00 1.0000000e+00]\n",
      " [0.0000000e+00 0.0000000e+00 0.0000000e+00 1.0000000e+00]\n",
      " [0.0000000e+00 0.0000000e+00 0.0000000e+00 1.0000000e+00]\n",
      " [0.0000000e+00 0.0000000e+00 0.0000000e+00 1.0000000e+00]\n",
      " [0.0000000e+00 0.0000000e+00 0.0000000e+00 1.0000000e+00]\n",
      " [0.0000000e+00 0.0000000e+00 0.0000000e+00 1.0000000e+00]\n",
      " [0.0000000e+00 0.0000000e+00 1.0000000e+00 8.1699397e-27]\n",
      " [0.0000000e+00 0.0000000e+00 0.0000000e+00 1.0000000e+00]\n",
      " [0.0000000e+00 0.0000000e+00 0.0000000e+00 1.0000000e+00]\n",
      " [0.0000000e+00 0.0000000e+00 0.0000000e+00 1.0000000e+00]\n",
      " [0.0000000e+00 0.0000000e+00 0.0000000e+00 1.0000000e+00]\n",
      " [0.0000000e+00 0.0000000e+00 0.0000000e+00 1.0000000e+00]\n",
      " [0.0000000e+00 0.0000000e+00 0.0000000e+00 1.0000000e+00]\n",
      " [0.0000000e+00 0.0000000e+00 0.0000000e+00 1.0000000e+00]\n",
      " [0.0000000e+00 0.0000000e+00 0.0000000e+00 1.0000000e+00]\n",
      " [0.0000000e+00 0.0000000e+00 0.0000000e+00 1.0000000e+00]\n",
      " [0.0000000e+00 0.0000000e+00 0.0000000e+00 1.0000000e+00]\n",
      " [0.0000000e+00 0.0000000e+00 0.0000000e+00 1.0000000e+00]\n",
      " [0.0000000e+00 0.0000000e+00 0.0000000e+00 1.0000000e+00]\n",
      " [0.0000000e+00 0.0000000e+00 0.0000000e+00 1.0000000e+00]\n",
      " [0.0000000e+00 0.0000000e+00 0.0000000e+00 1.0000000e+00]\n",
      " [0.0000000e+00 0.0000000e+00 0.0000000e+00 1.0000000e+00]\n",
      " [0.0000000e+00 0.0000000e+00 0.0000000e+00 1.0000000e+00]\n",
      " [0.0000000e+00 0.0000000e+00 1.0000000e+00 0.0000000e+00]\n",
      " [0.0000000e+00 0.0000000e+00 0.0000000e+00 1.0000000e+00]\n",
      " [0.0000000e+00 0.0000000e+00 0.0000000e+00 1.0000000e+00]\n",
      " [0.0000000e+00 0.0000000e+00 0.0000000e+00 1.0000000e+00]\n",
      " [0.0000000e+00 0.0000000e+00 0.0000000e+00 1.0000000e+00]\n",
      " [0.0000000e+00 0.0000000e+00 0.0000000e+00 1.0000000e+00]\n",
      " [0.0000000e+00 0.0000000e+00 1.0000000e+00 0.0000000e+00]\n",
      " [1.9853385e-18 1.0000000e+00 0.0000000e+00 0.0000000e+00]\n",
      " [0.0000000e+00 0.0000000e+00 1.0000000e+00 0.0000000e+00]\n",
      " [0.0000000e+00 0.0000000e+00 1.0000000e+00 0.0000000e+00]\n",
      " [9.9033141e-01 0.0000000e+00 9.6686557e-03 0.0000000e+00]\n",
      " [1.4061727e-34 1.0000000e+00 0.0000000e+00 0.0000000e+00]\n",
      " [0.0000000e+00 0.0000000e+00 1.0000000e+00 0.0000000e+00]\n",
      " [0.0000000e+00 0.0000000e+00 1.0000000e+00 0.0000000e+00]\n",
      " [0.0000000e+00 0.0000000e+00 1.0000000e+00 0.0000000e+00]\n",
      " [0.0000000e+00 0.0000000e+00 1.0000000e+00 0.0000000e+00]\n",
      " [0.0000000e+00 0.0000000e+00 1.0000000e+00 0.0000000e+00]\n",
      " [0.0000000e+00 0.0000000e+00 1.0000000e+00 0.0000000e+00]\n",
      " [1.0000000e+00 3.9319093e-23 0.0000000e+00 0.0000000e+00]\n",
      " [0.0000000e+00 0.0000000e+00 1.0000000e+00 0.0000000e+00]\n",
      " [0.0000000e+00 0.0000000e+00 1.0000000e+00 0.0000000e+00]\n",
      " [0.0000000e+00 0.0000000e+00 1.0000000e+00 0.0000000e+00]\n",
      " [0.0000000e+00 0.0000000e+00 0.0000000e+00 1.0000000e+00]\n",
      " [0.0000000e+00 0.0000000e+00 0.0000000e+00 1.0000000e+00]\n",
      " [0.0000000e+00 0.0000000e+00 0.0000000e+00 1.0000000e+00]\n",
      " [0.0000000e+00 0.0000000e+00 0.0000000e+00 1.0000000e+00]\n",
      " [0.0000000e+00 0.0000000e+00 0.0000000e+00 1.0000000e+00]\n",
      " [0.0000000e+00 0.0000000e+00 0.0000000e+00 1.0000000e+00]\n",
      " [0.0000000e+00 0.0000000e+00 0.0000000e+00 1.0000000e+00]\n",
      " [0.0000000e+00 0.0000000e+00 0.0000000e+00 1.0000000e+00]\n",
      " [0.0000000e+00 0.0000000e+00 1.0000000e+00 0.0000000e+00]\n",
      " [0.0000000e+00 0.0000000e+00 0.0000000e+00 1.0000000e+00]\n",
      " [5.4112143e-36 1.0000000e+00 0.0000000e+00 0.0000000e+00]\n",
      " [1.2669661e-16 1.0000000e+00 0.0000000e+00 0.0000000e+00]\n",
      " [7.2389537e-23 1.0000000e+00 0.0000000e+00 0.0000000e+00]\n",
      " [3.3507529e-33 1.0000000e+00 0.0000000e+00 0.0000000e+00]\n",
      " [9.7195608e-28 1.0000000e+00 0.0000000e+00 0.0000000e+00]\n",
      " [1.0000000e+00 8.9610155e-13 0.0000000e+00 0.0000000e+00]\n",
      " [3.7349960e-27 1.0000000e+00 0.0000000e+00 0.0000000e+00]\n",
      " [1.3263266e-38 1.0000000e+00 0.0000000e+00 0.0000000e+00]\n",
      " [0.0000000e+00 1.0000000e+00 0.0000000e+00 0.0000000e+00]\n",
      " [0.0000000e+00 1.0000000e+00 0.0000000e+00 0.0000000e+00]\n",
      " [2.4932103e-36 1.0000000e+00 0.0000000e+00 0.0000000e+00]\n",
      " [1.0528325e-28 1.0000000e+00 0.0000000e+00 0.0000000e+00]\n",
      " [0.0000000e+00 1.0000000e+00 0.0000000e+00 0.0000000e+00]\n",
      " [2.0927008e-25 1.0000000e+00 0.0000000e+00 0.0000000e+00]\n",
      " [2.6327491e-31 1.0000000e+00 0.0000000e+00 0.0000000e+00]\n",
      " [2.3258219e-24 1.0000000e+00 0.0000000e+00 0.0000000e+00]\n",
      " [5.1733743e-28 1.0000000e+00 0.0000000e+00 0.0000000e+00]\n",
      " [6.5489067e-17 1.0000000e+00 0.0000000e+00 0.0000000e+00]\n",
      " [0.0000000e+00 1.0000000e+00 0.0000000e+00 0.0000000e+00]\n",
      " [3.8317709e-29 1.0000000e+00 0.0000000e+00 0.0000000e+00]\n",
      " [2.0517960e-05 9.9997950e-01 0.0000000e+00 0.0000000e+00]\n",
      " [0.0000000e+00 1.0000000e+00 0.0000000e+00 0.0000000e+00]\n",
      " [0.0000000e+00 1.0000000e+00 0.0000000e+00 0.0000000e+00]\n",
      " [2.8612370e-23 1.0000000e+00 0.0000000e+00 0.0000000e+00]\n",
      " [7.4913214e-06 9.9999249e-01 0.0000000e+00 0.0000000e+00]\n",
      " [0.0000000e+00 0.0000000e+00 1.0000000e+00 0.0000000e+00]\n",
      " [0.0000000e+00 0.0000000e+00 1.0000000e+00 0.0000000e+00]\n",
      " [0.0000000e+00 0.0000000e+00 1.0000000e+00 0.0000000e+00]\n",
      " [0.0000000e+00 0.0000000e+00 1.0000000e+00 0.0000000e+00]\n",
      " [0.0000000e+00 0.0000000e+00 1.0000000e+00 0.0000000e+00]\n",
      " [0.0000000e+00 0.0000000e+00 1.0000000e+00 0.0000000e+00]\n",
      " [0.0000000e+00 0.0000000e+00 1.0000000e+00 0.0000000e+00]\n",
      " [0.0000000e+00 0.0000000e+00 1.0000000e+00 0.0000000e+00]\n",
      " [0.0000000e+00 0.0000000e+00 1.0000000e+00 0.0000000e+00]\n",
      " [0.0000000e+00 0.0000000e+00 1.0000000e+00 0.0000000e+00]\n",
      " [0.0000000e+00 0.0000000e+00 1.0000000e+00 0.0000000e+00]\n",
      " [1.0000000e+00 7.9142935e-11 0.0000000e+00 0.0000000e+00]\n",
      " [0.0000000e+00 0.0000000e+00 1.0000000e+00 0.0000000e+00]\n",
      " [0.0000000e+00 0.0000000e+00 1.0000000e+00 0.0000000e+00]\n",
      " [0.0000000e+00 0.0000000e+00 1.0000000e+00 0.0000000e+00]\n",
      " [7.4926946e-13 1.0000000e+00 0.0000000e+00 0.0000000e+00]\n",
      " [0.0000000e+00 0.0000000e+00 1.0000000e+00 0.0000000e+00]\n",
      " [1.4734594e-12 1.0000000e+00 0.0000000e+00 0.0000000e+00]\n",
      " [0.0000000e+00 0.0000000e+00 1.0000000e+00 0.0000000e+00]\n",
      " [0.0000000e+00 0.0000000e+00 1.0000000e+00 0.0000000e+00]\n",
      " [0.0000000e+00 0.0000000e+00 1.0000000e+00 0.0000000e+00]\n",
      " [0.0000000e+00 0.0000000e+00 1.0000000e+00 0.0000000e+00]\n",
      " [4.1260301e-24 1.0000000e+00 0.0000000e+00 0.0000000e+00]\n",
      " [7.7611753e-03 9.9223882e-01 0.0000000e+00 0.0000000e+00]\n",
      " [0.0000000e+00 0.0000000e+00 1.0000000e+00 0.0000000e+00]\n",
      " [5.3290405e-06 9.9999464e-01 0.0000000e+00 0.0000000e+00]\n",
      " [1.0000000e+00 8.3112156e-25 0.0000000e+00 0.0000000e+00]\n",
      " [1.0000000e+00 1.3597361e-12 2.4389646e-10 0.0000000e+00]\n",
      " [0.0000000e+00 0.0000000e+00 1.0000000e+00 0.0000000e+00]\n",
      " [1.6117038e-36 1.0000000e+00 0.0000000e+00 0.0000000e+00]\n",
      " [0.0000000e+00 0.0000000e+00 0.0000000e+00 1.0000000e+00]\n",
      " [0.0000000e+00 0.0000000e+00 0.0000000e+00 1.0000000e+00]\n",
      " [0.0000000e+00 0.0000000e+00 0.0000000e+00 1.0000000e+00]\n",
      " [0.0000000e+00 0.0000000e+00 9.3974769e-01 6.0252324e-02]\n",
      " [0.0000000e+00 0.0000000e+00 1.0000000e+00 0.0000000e+00]\n",
      " [0.0000000e+00 0.0000000e+00 0.0000000e+00 1.0000000e+00]\n",
      " [0.0000000e+00 0.0000000e+00 0.0000000e+00 1.0000000e+00]\n",
      " [0.0000000e+00 0.0000000e+00 0.0000000e+00 1.0000000e+00]\n",
      " [0.0000000e+00 0.0000000e+00 0.0000000e+00 1.0000000e+00]\n",
      " [0.0000000e+00 0.0000000e+00 1.0000000e+00 0.0000000e+00]\n",
      " [1.1933384e-36 1.0000000e+00 0.0000000e+00 0.0000000e+00]\n",
      " [1.4909277e-23 1.0000000e+00 0.0000000e+00 0.0000000e+00]\n",
      " [9.9998367e-01 1.6334467e-05 0.0000000e+00 0.0000000e+00]\n",
      " [0.0000000e+00 1.0000000e+00 0.0000000e+00 0.0000000e+00]\n",
      " [8.0876889e-31 1.0000000e+00 0.0000000e+00 0.0000000e+00]\n",
      " [2.5223640e-17 1.0000000e+00 0.0000000e+00 0.0000000e+00]\n",
      " [2.2705562e-33 1.0000000e+00 0.0000000e+00 0.0000000e+00]\n",
      " [3.8788123e-03 9.9612111e-01 0.0000000e+00 0.0000000e+00]\n",
      " [8.4106633e-32 1.0000000e+00 0.0000000e+00 0.0000000e+00]\n",
      " [1.0604137e-29 1.0000000e+00 0.0000000e+00 0.0000000e+00]\n",
      " [1.6961918e-29 1.0000000e+00 0.0000000e+00 0.0000000e+00]\n",
      " [1.8149665e-27 1.0000000e+00 0.0000000e+00 0.0000000e+00]\n",
      " [6.6572707e-04 9.9933428e-01 0.0000000e+00 0.0000000e+00]\n",
      " [4.7173232e-10 1.0000000e+00 0.0000000e+00 0.0000000e+00]\n",
      " [1.2431507e-27 1.0000000e+00 0.0000000e+00 0.0000000e+00]\n",
      " [2.0253461e-25 1.0000000e+00 0.0000000e+00 0.0000000e+00]\n",
      " [0.0000000e+00 1.0000000e+00 0.0000000e+00 0.0000000e+00]\n",
      " [7.6377781e-17 1.0000000e+00 0.0000000e+00 0.0000000e+00]\n",
      " [9.7866262e-31 1.0000000e+00 0.0000000e+00 0.0000000e+00]\n",
      " [9.9494946e-01 5.0505078e-03 0.0000000e+00 0.0000000e+00]\n",
      " [1.0000000e+00 2.8075715e-19 0.0000000e+00 0.0000000e+00]\n",
      " [1.3234556e-05 9.9998677e-01 0.0000000e+00 0.0000000e+00]\n",
      " [9.9999976e-01 2.1920637e-07 0.0000000e+00 0.0000000e+00]\n",
      " [0.0000000e+00 1.0000000e+00 0.0000000e+00 0.0000000e+00]\n",
      " [1.0000000e+00 2.6994654e-22 0.0000000e+00 0.0000000e+00]\n",
      " [9.9999964e-01 3.9249863e-07 0.0000000e+00 0.0000000e+00]\n",
      " [1.0000000e+00 2.7263294e-08 0.0000000e+00 0.0000000e+00]\n",
      " [9.9985385e-01 1.4613837e-04 0.0000000e+00 0.0000000e+00]\n",
      " [0.0000000e+00 0.0000000e+00 1.0000000e+00 0.0000000e+00]\n",
      " [0.0000000e+00 0.0000000e+00 1.0000000e+00 0.0000000e+00]\n",
      " [0.0000000e+00 0.0000000e+00 1.0000000e+00 0.0000000e+00]\n",
      " [0.0000000e+00 0.0000000e+00 1.0000000e+00 0.0000000e+00]\n",
      " [4.9764700e-23 1.0000000e+00 0.0000000e+00 0.0000000e+00]\n",
      " [2.2054537e-12 1.0000000e+00 0.0000000e+00 0.0000000e+00]\n",
      " [0.0000000e+00 0.0000000e+00 1.0000000e+00 0.0000000e+00]\n",
      " [0.0000000e+00 0.0000000e+00 1.0000000e+00 0.0000000e+00]\n",
      " [9.9999774e-01 2.3190162e-06 0.0000000e+00 0.0000000e+00]\n",
      " [4.2192605e-03 9.9578071e-01 0.0000000e+00 0.0000000e+00]\n",
      " [2.0691917e-14 1.0000000e+00 0.0000000e+00 0.0000000e+00]\n",
      " [0.0000000e+00 0.0000000e+00 1.0000000e+00 0.0000000e+00]\n",
      " [0.0000000e+00 0.0000000e+00 1.0000000e+00 0.0000000e+00]\n",
      " [0.0000000e+00 0.0000000e+00 1.0000000e+00 0.0000000e+00]\n",
      " [4.0796221e-18 1.0000000e+00 0.0000000e+00 0.0000000e+00]\n",
      " [0.0000000e+00 0.0000000e+00 1.0000000e+00 0.0000000e+00]\n",
      " [9.3034599e-12 1.0000000e+00 0.0000000e+00 0.0000000e+00]\n",
      " [1.0000000e+00 2.2280010e-24 0.0000000e+00 0.0000000e+00]\n",
      " [0.0000000e+00 0.0000000e+00 1.0000000e+00 0.0000000e+00]\n",
      " [2.5508510e-17 1.0000000e+00 0.0000000e+00 0.0000000e+00]\n",
      " [6.9343093e-15 0.0000000e+00 1.0000000e+00 0.0000000e+00]\n",
      " [0.0000000e+00 0.0000000e+00 0.0000000e+00 1.0000000e+00]\n",
      " [0.0000000e+00 0.0000000e+00 0.0000000e+00 1.0000000e+00]\n",
      " [0.0000000e+00 0.0000000e+00 0.0000000e+00 1.0000000e+00]\n",
      " [0.0000000e+00 0.0000000e+00 0.0000000e+00 1.0000000e+00]\n",
      " [0.0000000e+00 0.0000000e+00 0.0000000e+00 1.0000000e+00]\n",
      " [0.0000000e+00 0.0000000e+00 0.0000000e+00 1.0000000e+00]\n",
      " [0.0000000e+00 0.0000000e+00 0.0000000e+00 1.0000000e+00]\n",
      " [0.0000000e+00 0.0000000e+00 0.0000000e+00 1.0000000e+00]\n",
      " [0.0000000e+00 0.0000000e+00 0.0000000e+00 1.0000000e+00]\n",
      " [0.0000000e+00 0.0000000e+00 0.0000000e+00 1.0000000e+00]\n",
      " [0.0000000e+00 0.0000000e+00 0.0000000e+00 1.0000000e+00]]\n"
     ]
    }
   ],
   "source": [
    "print(X_pred)"
   ]
  },
  {
   "cell_type": "code",
   "execution_count": 13,
   "id": "9b987ef5",
   "metadata": {},
   "outputs": [
    {
     "name": "stdout",
     "output_type": "stream",
     "text": [
      "[1 1 0 1 1 0 0 2 2 0 0 0 0 1 1 1 1 1 1 1 3 3 3 3 3 3 2 3 3 3 3 3 3 3 3 3 3\n",
      " 3 3 3 3 3 3 2 3 3 3 3 3 2 1 2 2 0 1 2 2 2 2 2 2 0 2 2 2 3 3 3 3 3 3 3 3 2\n",
      " 3 1 1 1 1 1 0 1 1 1 1 1 1 1 1 1 1 1 1 1 1 1 1 1 1 1 2 2 2 2 2 2 2 2 2 2 2\n",
      " 0 2 2 2 1 2 1 2 2 2 2 1 1 2 1 0 0 2 1 3 3 3 2 2 3 3 3 3 2 1 1 0 1 1 1 1 1\n",
      " 1 1 1 1 1 1 1 1 1 1 1 0 0 1 0 1 0 0 0 0 2 2 2 2 1 1 2 2 0 1 1 2 2 2 1 2 1\n",
      " 0 2 1 2 3 3 3 3 3 3 3 3 3 3 3]\n"
     ]
    }
   ],
   "source": [
    "print(X_pred.argmax(axis=1))"
   ]
  },
  {
   "cell_type": "code",
   "execution_count": 14,
   "id": "e093f1c0",
   "metadata": {},
   "outputs": [],
   "source": [
    "Tabla=np.array([[1., 0., 0., 0.],\n",
    "       [0., 1., 0., 0.],\n",
    "       [0., 0., 1., 0.],\n",
    "       [0., 0., 0., 1.]])\n",
    "class_names=['0' '1' '2' '3']"
   ]
  },
  {
   "cell_type": "code",
   "execution_count": 15,
   "id": "f428b99b",
   "metadata": {},
   "outputs": [],
   "source": [
    "classifier = svm.SVC(kernel='linear').fit(Tabla, Tabla.argmax(axis=1))\n",
    "predicted_labels = classifier.predict(X_pred)"
   ]
  },
  {
   "cell_type": "code",
   "execution_count": 16,
   "id": "5b319caf",
   "metadata": {},
   "outputs": [
    {
     "name": "stdout",
     "output_type": "stream",
     "text": [
      "[[12 36  2  0]\n",
      " [ 7 28 15  0]\n",
      " [ 4  6 33  7]\n",
      " [ 0  0  3 47]]\n"
     ]
    }
   ],
   "source": [
    "cnf_matrix = confusion_matrix(Y_test.argmax(axis=1), predicted_labels)\n",
    "print(cnf_matrix)"
   ]
  },
  {
   "cell_type": "code",
   "execution_count": 17,
   "id": "1c5e8235",
   "metadata": {},
   "outputs": [
    {
     "data": {
      "image/png": "[encoded data removed]",
      "text/plain": [
       "<Figure size 432x288 with 2 Axes>"
      ]
     },
     "metadata": {
      "needs_background": "light"
     },
     "output_type": "display_data"
    }
   ],
   "source": [
    "disp = plot_confusion_matrix(classifier, X_pred, Y_test.argmax(axis=1),\n",
    "                                 #display_labels=class_names,\n",
    "                                 cmap=plt.cm.Blues)\n",
    "plt.show()"
   ]
  },
  {
   "cell_type": "code",
   "execution_count": 18,
   "id": "464468b1",
   "metadata": {},
   "outputs": [
    {
     "name": "stdout",
     "output_type": "stream",
     "text": [
      "[23 70 53 54]\n",
      "[12 28 33 47]\n",
      "[11 42 20  7]\n"
     ]
    }
   ],
   "source": [
    "print(cnf_matrix.sum(axis=0))\n",
    "print(np.diag(cnf_matrix) )\n",
    "print(cnf_matrix.sum(axis=0) - np.diag(cnf_matrix) )"
   ]
  },
  {
   "cell_type": "code",
   "execution_count": 19,
   "id": "dc83aad9",
   "metadata": {},
   "outputs": [],
   "source": [
    "FP = cnf_matrix.sum(axis=0) - np.diag(cnf_matrix) \n",
    "FN = cnf_matrix.sum(axis=1) - np.diag(cnf_matrix)\n",
    "TP = np.diag(cnf_matrix)\n",
    "TN = cnf_matrix.sum() - (FP + FN + TP)\n",
    "FP = FP.astype(float)\n",
    "FN = FN.astype(float)\n",
    "TP = TP.astype(float)\n",
    "TN = TN.astype(float)\n",
    "# Sensitivity, hit rate, recall, or true positive rate\n",
    "TPR = TP/(TP+FN)\n",
    "# Specificity or true negative rate\n",
    "TNR = TN/(TN+FP) \n",
    "# Precision or positive predictive value\n",
    "PPV = TP/(TP+FP)\n",
    "# Negative predictive value\n",
    "NPV = TN/(TN+FN)\n",
    "# Fall out or false positive rate\n",
    "FPR = FP/(FP+TN)\n",
    "# False negative rate\n",
    "FNR = FN/(TP+FN)\n",
    "# False discovery rate\n",
    "FDR = FP/(TP+FP)\n",
    "# Overall accuracy for each class\n",
    "ACC = (TP+TN)/(TP+FP+FN+TN)"
   ]
  },
  {
   "cell_type": "code",
   "execution_count": 1,
   "id": "8c2859c5",
   "metadata": {},
   "outputs": [
    {
     "ename": "NameError",
     "evalue": "name 'Y_test' is not defined",
     "output_type": "error",
     "traceback": [
      "\u001b[1;31m---------------------------------------------------------------------------\u001b[0m",
      "\u001b[1;31mNameError\u001b[0m                                 Traceback (most recent call last)",
      "\u001b[1;32m<ipython-input-1-929c682a3812>\u001b[0m in \u001b[0;36m<module>\u001b[1;34m\u001b[0m\n\u001b[1;32m----> 1\u001b[1;33m \u001b[0mprint\u001b[0m\u001b[1;33m(\u001b[0m\u001b[0mY_test\u001b[0m\u001b[1;33m)\u001b[0m\u001b[1;33m\u001b[0m\u001b[1;33m\u001b[0m\u001b[0m\n\u001b[0m",
      "\u001b[1;31mNameError\u001b[0m: name 'Y_test' is not defined"
     ]
    }
   ],
   "source": [
    "print(Y_test)"
   ]
  },
  {
   "cell_type": "code",
   "execution_count": null,
   "id": "107ff54a",
   "metadata": {},
   "outputs": [],
   "source": []
  }
 ],
 "metadata": {
  "kernelspec": {
   "display_name": "Python 3",
   "language": "python",
   "name": "python3"
  },
  "language_info": {
   "codemirror_mode": {
    "name": "ipython",
    "version": 3
   },
   "file_extension": ".py",
   "mimetype": "text/x-python",
   "name": "python",
   "nbconvert_exporter": "python",
   "pygments_lexer": "ipython3",
   "version": "3.8.5"
  }
 },
 "nbformat": 4,
 "nbformat_minor": 5
}
