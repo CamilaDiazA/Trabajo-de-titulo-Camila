{
 "cells": [
  {
   "cell_type": "code",
   "execution_count": 1,
   "id": "e4e43e9b",
   "metadata": {},
   "outputs": [],
   "source": [
    "from skimage import io\n",
    "from matplotlib import pyplot as plt\n",
    "from glob import glob\n",
    "import numpy as np\n",
    "from skimage.color import (separate_stains, combine_stains,\n",
    "                            hdx_from_rgb, rgb_from_hdx,rgb2hed, hed2rgb) \n",
    "\n",
    "from skimage import img_as_ubyte\n",
    "from skimage.exposure import rescale_intensity\n",
    "from keras.models import Sequential\n",
    "from keras.layers import Dense, Dropout, Conv2D, MaxPool2D, Flatten\n",
    "from keras.utils import np_utils\n",
    "from sklearn.metrics import accuracy_score\n",
    "from sklearn.metrics import confusion_matrix as cm\n",
    "from sklearn.metrics import precision_score,recall_score,accuracy_score, f1_score\n",
    "import matplotlib.pyplot as plt\n",
    "from sklearn.metrics import plot_confusion_matrix\n",
    "from sklearn.metrics import confusion_matrix, classification_report\n",
    "from sklearn import svm, datasets"
   ]
  },
  {
   "cell_type": "markdown",
   "id": "36e6f960",
   "metadata": {},
   "source": [
    "# Funciones"
   ]
  },
  {
   "cell_type": "code",
   "execution_count": 2,
   "id": "1564f969",
   "metadata": {},
   "outputs": [],
   "source": [
    "#Leer el conjunto de imagenes\n",
    "def LeerImagenes(imagenes):\n",
    "    imgs=[]\n",
    "    for x in range(0,len(imagenes)):\n",
    "        imgs.append(io.imread(imagenes[x]))\n",
    "    MImagenes=np.array(imgs)\n",
    "    \n",
    "    return MImagenes"
   ]
  },
  {
   "cell_type": "code",
   "execution_count": 3,
   "id": "285ce98c",
   "metadata": {},
   "outputs": [],
   "source": [
    "#Crea matriz con las etiquetas de las imagenes\n",
    "def Etiquetas(imagenes):\n",
    "    etiquetas=[]\n",
    "    for x in range(0,len(imagenes)):\n",
    "        Clasificacion =imagenes[x].split('-') \n",
    "        for i in range(0,len(Clasificacion)) :\n",
    "            Valores=(Clasificacion[2])\n",
    "            Numero=Valores.split('_')\n",
    "        etiquetas.append(int(Numero[1]))\n",
    "    return etiquetas"
   ]
  },
  {
   "cell_type": "code",
   "execution_count": 4,
   "id": "46c3b67a",
   "metadata": {},
   "outputs": [],
   "source": [
    "#Aplico filtro al conjunto de imagenes ingresados cono paramentro\n",
    "def AplicarFiltro(MImagenes):\n",
    "    imgs_con_filtro=[]\n",
    "    for x in range(0,len(MImagenes)):\n",
    "        ihc_hdx = rgb2hed(MImagenes[x])\n",
    "        null = np.zeros_like(ihc_hdx[:, :, 0])\n",
    "        ihc_h = hed2rgb(np.stack((ihc_hdx[:, :, 0], null, null), axis=-1))\n",
    "        ihc_d = hed2rgb(np.stack((null, ihc_hdx[:, :, 1], null), axis=-1))\n",
    "        ihc_x = hed2rgb(np.stack((null, null, ihc_hdx[:, :, 2]), axis=-1))\n",
    "\n",
    "        h = rescale_intensity(ihc_hdx[:, :, 0], out_range=(0, 1),\n",
    "                      in_range=(0, np.percentile(ihc_hdx[:, :, 0], 99)))\n",
    "        d = rescale_intensity(ihc_hdx[:, :, 2], out_range=(0, 1),\n",
    "                      in_range=(0, np.percentile(ihc_hdx[:, :, 2], 99)))\n",
    "    \n",
    "        zdh = np.dstack((null, d, h))\n",
    "        imgs_con_filtro.append(zdh)\n",
    "    Imagenes_con_fitro=np.array(imgs_con_filtro)\n",
    "    return Imagenes_con_fitro"
   ]
  },
  {
   "cell_type": "markdown",
   "id": "dad598d1",
   "metadata": {},
   "source": [
    "# PREPROCESAMIENTO"
   ]
  },
  {
   "cell_type": "code",
   "execution_count": 5,
   "id": "1c54a22e",
   "metadata": {},
   "outputs": [],
   "source": [
    "# Constantes\n",
    "data_source = \"../data/\"\n",
    "models_dir = '../saved_models/'\n",
    "train_imgs = glob(f\"{data_source}training/*.png\")\n",
    "test_imgs = glob(f\"{data_source}test/*.png\")"
   ]
  },
  {
   "cell_type": "code",
   "execution_count": 6,
   "id": "1126a97a",
   "metadata": {},
   "outputs": [],
   "source": [
    "X_train=AplicarFiltro(LeerImagenes(train_imgs))\n",
    "y_train=Etiquetas(train_imgs)\n",
    "X_test=AplicarFiltro(LeerImagenes(test_imgs))\n",
    "y_test=Etiquetas(test_imgs)"
   ]
  },
  {
   "cell_type": "code",
   "execution_count": 7,
   "id": "91b90ea1",
   "metadata": {},
   "outputs": [
    {
     "name": "stdout",
     "output_type": "stream",
     "text": [
      "[0. 0. 0. 1.]\n"
     ]
    }
   ],
   "source": [
    "n_classes = 4\n",
    "Y_train = np_utils.to_categorical(y_train, n_classes)\n",
    "Y_test = np_utils.to_categorical(y_test, n_classes)\n",
    "print(Y_train[1])"
   ]
  },
  {
   "cell_type": "code",
   "execution_count": 8,
   "id": "f3e17f7e",
   "metadata": {},
   "outputs": [],
   "source": [
    "X_train = X_train.astype('float32')\n",
    "X_test = X_test.astype('float32')"
   ]
  },
  {
   "cell_type": "code",
   "execution_count": 9,
   "id": "ec358643",
   "metadata": {},
   "outputs": [
    {
     "name": "stdout",
     "output_type": "stream",
     "text": [
      "1600\n",
      "320\n"
     ]
    }
   ],
   "source": [
    "print(len(X_train))\n",
    "print(len(X_test))"
   ]
  },
  {
   "cell_type": "markdown",
   "id": "6db02b71",
   "metadata": {},
   "source": [
    "# Creación de CNN"
   ]
  },
  {
   "cell_type": "code",
   "execution_count": 10,
   "id": "77edaed5",
   "metadata": {},
   "outputs": [],
   "source": [
    "# building a linear stack of layers with the sequential model\n",
    "model = Sequential()\n",
    "# convolutional layer\n",
    "model.add(Conv2D(25, kernel_size=(3,3), strides=(1,1), padding='valid', activation='relu', input_shape=(300,300,3)))\n",
    "model.add(MaxPool2D(pool_size=(1,1)))\n",
    "# flatten output of conv\n",
    "model.add(Flatten())\n",
    "# hidden layer\n",
    "model.add(Dense(100, activation='relu'))\n",
    "# output layer\n",
    "model.add(Dense(4, activation='softmax'))"
   ]
  },
  {
   "cell_type": "code",
   "execution_count": 11,
   "id": "7a21c054",
   "metadata": {},
   "outputs": [
    {
     "name": "stdout",
     "output_type": "stream",
     "text": [
      "Epoch 1/10\n",
      "13/13 [==============================] - 56s 4s/step - loss: 75.6337 - accuracy: 0.3500 - val_loss: 29.3667 - val_accuracy: 0.4781\n",
      "Epoch 2/10\n",
      "13/13 [==============================] - 47s 4s/step - loss: 17.0822 - accuracy: 0.5337 - val_loss: 11.7105 - val_accuracy: 0.5938\n",
      "Epoch 3/10\n",
      "13/13 [==============================] - 46s 4s/step - loss: 6.6009 - accuracy: 0.7100 - val_loss: 4.6672 - val_accuracy: 0.6750\n",
      "Epoch 4/10\n",
      "13/13 [==============================] - 45s 3s/step - loss: 3.6327 - accuracy: 0.8037 - val_loss: 1.3227 - val_accuracy: 0.7812\n",
      "Epoch 5/10\n",
      "13/13 [==============================] - 43s 3s/step - loss: 1.4984 - accuracy: 0.8825 - val_loss: 0.8840 - val_accuracy: 0.8344\n",
      "Epoch 6/10\n",
      "13/13 [==============================] - 42s 3s/step - loss: 0.5790 - accuracy: 0.9044 - val_loss: 1.6370 - val_accuracy: 0.6562\n",
      "Epoch 7/10\n",
      "13/13 [==============================] - 42s 3s/step - loss: 0.2689 - accuracy: 0.9488 - val_loss: 0.8926 - val_accuracy: 0.8531\n",
      "Epoch 8/10\n",
      "13/13 [==============================] - 47s 4s/step - loss: 0.1216 - accuracy: 0.9775 - val_loss: 0.9538 - val_accuracy: 0.7594\n",
      "Epoch 9/10\n",
      "13/13 [==============================] - 43s 3s/step - loss: 0.0282 - accuracy: 0.9931 - val_loss: 1.1668 - val_accuracy: 0.7312\n",
      "Epoch 10/10\n",
      "13/13 [==============================] - 56s 4s/step - loss: 0.0104 - accuracy: 0.9969 - val_loss: 0.8271 - val_accuracy: 0.8125\n"
     ]
    },
    {
     "data": {
      "text/plain": [
       "<tensorflow.python.keras.callbacks.History at 0x1b714b38bb0>"
      ]
     },
     "execution_count": 11,
     "metadata": {},
     "output_type": "execute_result"
    }
   ],
   "source": [
    "# compiling the sequential model\n",
    "model.compile(loss='categorical_crossentropy', metrics=['accuracy'], optimizer='adam')\n",
    "# training the model for 10 epochs\n",
    "model.fit(X_train, Y_train, batch_size=128, epochs=10, validation_data=(X_test, Y_test))"
   ]
  },
  {
   "cell_type": "code",
   "execution_count": 12,
   "id": "d8ea95d8",
   "metadata": {},
   "outputs": [],
   "source": [
    "X_pred=model.predict(X_test)"
   ]
  },
  {
   "cell_type": "code",
   "execution_count": 13,
   "id": "20fa82b0",
   "metadata": {},
   "outputs": [
    {
     "name": "stdout",
     "output_type": "stream",
     "text": [
      "[[1.0000000e+00 2.6106284e-15 0.0000000e+00 0.0000000e+00]\n",
      " [9.9999034e-01 9.6999820e-06 3.2615518e-30 1.4720967e-27]\n",
      " [1.0000000e+00 1.5283163e-17 0.0000000e+00 0.0000000e+00]\n",
      " ...\n",
      " [0.0000000e+00 2.7504020e-22 9.3282445e-04 9.9906725e-01]\n",
      " [0.0000000e+00 2.5143390e-22 1.0192941e-05 9.9998975e-01]\n",
      " [0.0000000e+00 6.0995874e-23 2.2982588e-06 9.9999774e-01]]\n"
     ]
    }
   ],
   "source": [
    "print(X_pred)"
   ]
  },
  {
   "cell_type": "markdown",
   "id": "1ba5160d",
   "metadata": {},
   "source": [
    "# Evaluación "
   ]
  },
  {
   "cell_type": "code",
   "execution_count": 14,
   "id": "21f40677",
   "metadata": {},
   "outputs": [],
   "source": [
    "Tabla=np.array([[1., 0., 0., 0.],\n",
    "       [0., 1., 0., 0.],\n",
    "       [0., 0., 1., 0.],\n",
    "       [0., 0., 0., 1.]])\n",
    "class_names=['0' '1' '2' '3']"
   ]
  },
  {
   "cell_type": "code",
   "execution_count": 15,
   "id": "f5265518",
   "metadata": {},
   "outputs": [],
   "source": [
    "classifier = svm.SVC(kernel='linear').fit(Tabla, Tabla.argmax(axis=1))\n",
    "predicted_labels = classifier.predict(X_pred)"
   ]
  },
  {
   "cell_type": "code",
   "execution_count": 16,
   "id": "df43d360",
   "metadata": {},
   "outputs": [
    {
     "name": "stdout",
     "output_type": "stream",
     "text": [
      "[[77  3  0  0]\n",
      " [ 3 55 13  9]\n",
      " [ 0  3 48 29]\n",
      " [ 0  0  0 80]]\n"
     ]
    }
   ],
   "source": [
    "cnf_matrix = confusion_matrix(Y_test.argmax(axis=1), predicted_labels)\n",
    "print(cnf_matrix)"
   ]
  },
  {
   "cell_type": "code",
   "execution_count": 17,
   "id": "8ade7214",
   "metadata": {},
   "outputs": [
    {
     "data": {
      "image/png": "[encoded data removed]",
      "text/plain": [
       "<Figure size 432x288 with 2 Axes>"
      ]
     },
     "metadata": {
      "needs_background": "light"
     },
     "output_type": "display_data"
    }
   ],
   "source": [
    "disp = plot_confusion_matrix(classifier, X_pred, Y_test.argmax(axis=1),\n",
    "                                 #display_labels=class_names,\n",
    "                                 cmap=plt.cm.Blues)\n",
    "plt.show()"
   ]
  },
  {
   "cell_type": "code",
   "execution_count": 19,
   "id": "c353a993",
   "metadata": {},
   "outputs": [
    {
     "name": "stdout",
     "output_type": "stream",
     "text": [
      "[ 80  61  61 118]\n",
      "[77 55 48 80]\n",
      "[ 3  6 13 38]\n"
     ]
    }
   ],
   "source": [
    "print(cnf_matrix.sum(axis=0))\n",
    "print(np.diag(cnf_matrix) )\n",
    "print(cnf_matrix.sum(axis=0) - np.diag(cnf_matrix) )"
   ]
  },
  {
   "cell_type": "code",
   "execution_count": 22,
   "id": "95b1caa2",
   "metadata": {},
   "outputs": [],
   "source": [
    "FP = cnf_matrix.sum(axis=0) - np.diag(cnf_matrix) \n",
    "FN = cnf_matrix.sum(axis=1) - np.diag(cnf_matrix)\n",
    "TP = np.diag(cnf_matrix)\n",
    "TN = cnf_matrix.sum() - (FP + FN + TP)\n",
    "FP = FP.astype(float)\n",
    "FN = FN.astype(float)\n",
    "TP = TP.astype(float)\n",
    "TN = TN.astype(float)\n",
    "# Sensitivity, hit rate, recall, or true positive rate\n",
    "TPR = TP/(TP+FN)\n",
    "# Specificity or true negative rate\n",
    "TNR = TN/(TN+FP) \n",
    "# Precision or positive predictive value\n",
    "PPV = TP/(TP+FP)\n",
    "# Negative predictive value\n",
    "NPV = TN/(TN+FN)\n",
    "# Fall out or false positive rate\n",
    "FPR = FP/(FP+TN)\n",
    "# False negative rate\n",
    "FNR = FN/(TP+FN)\n",
    "# False discovery rate\n",
    "FDR = FP/(TP+FP)\n",
    "# Overall accuracy for each class\n",
    "ACC = (TP+TN)/(TP+FP+FN+TN)"
   ]
  },
  {
   "cell_type": "code",
   "execution_count": 23,
   "id": "63a0af03",
   "metadata": {},
   "outputs": [
    {
     "data": {
      "text/plain": [
       "array([ 3.,  6., 13., 38.])"
      ]
     },
     "execution_count": 23,
     "metadata": {},
     "output_type": "execute_result"
    }
   ],
   "source": [
    "FP"
   ]
  },
  {
   "cell_type": "code",
   "execution_count": 24,
   "id": "dc369334",
   "metadata": {},
   "outputs": [
    {
     "data": {
      "text/plain": [
       "array([ 3., 25., 32.,  0.])"
      ]
     },
     "execution_count": 24,
     "metadata": {},
     "output_type": "execute_result"
    }
   ],
   "source": [
    "FN"
   ]
  },
  {
   "cell_type": "code",
   "execution_count": 25,
   "id": "1d40a60e",
   "metadata": {},
   "outputs": [
    {
     "data": {
      "text/plain": [
       "array([77., 55., 48., 80.])"
      ]
     },
     "execution_count": 25,
     "metadata": {},
     "output_type": "execute_result"
    }
   ],
   "source": [
    "TP"
   ]
  },
  {
   "cell_type": "code",
   "execution_count": 26,
   "id": "d74976fe",
   "metadata": {},
   "outputs": [
    {
     "data": {
      "text/plain": [
       "array([237., 234., 227., 202.])"
      ]
     },
     "execution_count": 26,
     "metadata": {},
     "output_type": "execute_result"
    }
   ],
   "source": [
    "TN"
   ]
  },
  {
   "cell_type": "code",
   "execution_count": 27,
   "id": "fd639c54",
   "metadata": {},
   "outputs": [
    {
     "data": {
      "text/plain": [
       "array([0.9625, 0.6875, 0.6   , 1.    ])"
      ]
     },
     "execution_count": 27,
     "metadata": {},
     "output_type": "execute_result"
    }
   ],
   "source": [
    "TPR"
   ]
  },
  {
   "cell_type": "code",
   "execution_count": 28,
   "id": "f0624fdd",
   "metadata": {},
   "outputs": [
    {
     "data": {
      "text/plain": [
       "array([0.9625    , 0.90163934, 0.78688525, 0.6779661 ])"
      ]
     },
     "execution_count": 28,
     "metadata": {},
     "output_type": "execute_result"
    }
   ],
   "source": [
    "PPV"
   ]
  },
  {
   "cell_type": "code",
   "execution_count": 29,
   "id": "8829d4fd",
   "metadata": {},
   "outputs": [
    {
     "name": "stdout",
     "output_type": "stream",
     "text": [
      "              precision    recall  f1-score   support\n",
      "\n",
      "           0      0.963     0.963     0.963        80\n",
      "           1      0.902     0.688     0.780        80\n",
      "           2      0.787     0.600     0.681        80\n",
      "           3      0.678     1.000     0.808        80\n",
      "\n",
      "    accuracy                          0.812       320\n",
      "   macro avg      0.832     0.812     0.808       320\n",
      "weighted avg      0.832     0.812     0.808       320\n",
      "\n"
     ]
    }
   ],
   "source": [
    "print(classification_report(y_test, predicted_labels, digits=3))"
   ]
  },
  {
   "cell_type": "code",
   "execution_count": null,
   "id": "a44f3d19",
   "metadata": {},
   "outputs": [],
   "source": []
  }
 ],
 "metadata": {
  "kernelspec": {
   "display_name": "Python 3",
   "language": "python",
   "name": "python3"
  },
  "language_info": {
   "codemirror_mode": {
    "name": "ipython",
    "version": 3
   },
   "file_extension": ".py",
   "mimetype": "text/x-python",
   "name": "python",
   "nbconvert_exporter": "python",
   "pygments_lexer": "ipython3",
   "version": "3.8.5"
  }
 },
 "nbformat": 4,
 "nbformat_minor": 5
}
