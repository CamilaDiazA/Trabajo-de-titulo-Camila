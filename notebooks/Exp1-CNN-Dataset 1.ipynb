{
 "cells": [
  {
   "cell_type": "code",
   "execution_count": 1,
   "id": "86b7de23",
   "metadata": {},
   "outputs": [],
   "source": [
    "from skimage import io\n",
    "from matplotlib import pyplot as plt\n",
    "from glob import glob\n",
    "import numpy as np\n",
    "from skimage.color import (separate_stains, combine_stains,\n",
    "                            hdx_from_rgb, rgb_from_hdx,rgb2hed, hed2rgb) \n",
    "\n",
    "from skimage import img_as_ubyte\n",
    "from skimage.exposure import rescale_intensity\n",
    "from keras.models import Sequential\n",
    "from keras.layers import Dense, Dropout, Conv2D, MaxPool2D, Flatten\n",
    "from keras.utils import np_utils\n",
    "from sklearn.metrics import accuracy_score\n",
    "from sklearn.metrics import confusion_matrix as cm\n",
    "from sklearn.metrics import precision_score,recall_score,accuracy_score, f1_score\n",
    "import matplotlib.pyplot as plt\n",
    "from sklearn.metrics import plot_confusion_matrix\n",
    "from sklearn.metrics import confusion_matrix, classification_report"
   ]
  },
  {
   "cell_type": "markdown",
   "id": "04a69f7a",
   "metadata": {},
   "source": [
    "# Funciones\n"
   ]
  },
  {
   "cell_type": "code",
   "execution_count": 1,
   "id": "4aa247cf",
   "metadata": {},
   "outputs": [],
   "source": [
    "#Leer el conjunto de imagenes\n",
    "def LeerImagenes(imagenes):\n",
    "    imgs=[]\n",
    "    for x in range(0,len(imagenes)):\n",
    "        imgs.append(io.imread(imagenes[x]))\n",
    "    MImagenes=np.array(imgs)\n",
    "    \n",
    "    return MImagenes"
   ]
  },
  {
   "cell_type": "code",
   "execution_count": 2,
   "id": "51c18014",
   "metadata": {},
   "outputs": [],
   "source": [
    "#Crea matriz con las etiquetas de las imagenes\n",
    "def CalculoEtiquetas(imagenes):\n",
    "    Etiquetas=[]\n",
    "    for x in range(0,len(imagenes)):\n",
    "        Clasificacion =imagenes[x].split('-') \n",
    "        for i in range(0,len(Clasificacion)) :\n",
    "            Valores=(Clasificacion[2])\n",
    "            Numero=Valores.split('_')\n",
    "        Etiquetas.append(int(Numero[1]))\n",
    "        #Etiquetas=np.array(etiquetas)\n",
    "    return Etiquetas"
   ]
  },
  {
   "cell_type": "code",
   "execution_count": 3,
   "id": "e98f9713",
   "metadata": {},
   "outputs": [],
   "source": [
    "#Aplico filtro al conjunto de imagenes ingresados cono paramentro\n",
    "def AplicarFiltro(MImagenes):\n",
    "    imgs_con_filtro=[]\n",
    "    for x in range(0,len(MImagenes)):\n",
    "        ihc_hdx = rgb2hed(MImagenes[x])\n",
    "        null = np.zeros_like(ihc_hdx[:, :, 0])\n",
    "        ihc_h = hed2rgb(np.stack((ihc_hdx[:, :, 0], null, null), axis=-1))\n",
    "        ihc_d = hed2rgb(np.stack((null, ihc_hdx[:, :, 1], null), axis=-1))\n",
    "        ihc_x = hed2rgb(np.stack((null, null, ihc_hdx[:, :, 2]), axis=-1))\n",
    "\n",
    "        h = rescale_intensity(ihc_hdx[:, :, 0], out_range=(0, 1),\n",
    "                      in_range=(0, np.percentile(ihc_hdx[:, :, 0], 99)))\n",
    "        d = rescale_intensity(ihc_hdx[:, :, 2], out_range=(0, 1),\n",
    "                      in_range=(0, np.percentile(ihc_hdx[:, :, 2], 99)))\n",
    "    \n",
    "        zdh = np.dstack((null, d, h))\n",
    "        imgs_con_filtro.append(zdh)\n",
    "    Imagenes_con_fitro=np.array(imgs_con_filtro)\n",
    "    return Imagenes_con_fitro"
   ]
  },
  {
   "cell_type": "code",
   "execution_count": 4,
   "id": "fcc331ee",
   "metadata": {},
   "outputs": [],
   "source": [
    "#Obtiene el canal DAB de las imagenes representativas ingresadas\n",
    "def ImagenDAB(MImagenes):\n",
    "    imgs_DAB=[]\n",
    "    for x in range(0,len(MImagenes)):\n",
    "        ihc_hdx = rgb2hed(MImagenes[x])\n",
    "        null = np.zeros_like(ihc_hdx[:, :, 0])\n",
    "        #Seleccionó solo el canal DAB\n",
    "        ihc_x = hed2rgb(np.stack((null, null, ihc_hdx[:, :, 2]), axis=-1)) \n",
    "        #Guardo solo el canal DAB \n",
    "        imgs_DAB.append(ihc_x)\n",
    "    Imagenes_DAB=np.array(imgs_DAB)\n",
    "    return Imagenes_DAB"
   ]
  },
  {
   "cell_type": "code",
   "execution_count": 5,
   "id": "137e4042",
   "metadata": {},
   "outputs": [],
   "source": [
    "#Obtiene los valores promedios de cada clase y los valores min y max de estos, segun las imagenes representativas ingresadas\n",
    "\n",
    "def CalculoPromedios(Imagenes_DAB,Etiquetas):\n",
    "    Prom0=[]\n",
    "    Prom1=[]\n",
    "    Prom2=[]\n",
    "    Prom3=[]\n",
    "    Prom_imgs=[]\n",
    "    for x in range(0,len(Imagenes_DAB)):\n",
    "        Promedio=np.mean(Imagenes_DAB[x])\n",
    "        Prom_imgs.append(Promedio)\n",
    "    for x in range(0,len(Etiquetas)):\n",
    "        if Etiquetas[x]==0:\n",
    "            Prom0.append(Prom_imgs[x])\n",
    "        elif Etiquetas[x]==1:\n",
    "            Prom1.append(Prom_imgs[x])\n",
    "        elif Etiquetas[x]==2:\n",
    "            Prom2.append(Prom_imgs[x])\n",
    "        elif Etiquetas[x]==3:   \n",
    "            Prom3.append(Prom_imgs[x])\n",
    "        else:\n",
    "            print(\"Error en la etiqueta\") \n",
    "    Min0=min(Prom0)        \n",
    "    Max0=max(Prom0)\n",
    "    Min1=min(Prom1)\n",
    "    Max1=max(Prom1)\n",
    "    Min2=min(Prom2)\n",
    "    Max2=max(Prom2)\n",
    "    Min3=min(Prom3)\n",
    "    Max3=max(Prom3)\n",
    "    return Min0,Max0,Min1,Max1,Min2,Max2,Min3,Max3"
   ]
  },
  {
   "cell_type": "code",
   "execution_count": 6,
   "id": "8f2e341b",
   "metadata": {},
   "outputs": [],
   "source": [
    "#Filtra, quitando las imagenes que no cumplan con los valores asignados para su clase, retornando el conjunto de imagenes que \n",
    "#cumplen con los requisitos\n",
    "\n",
    "def SemiFiltro(Imagenes,Etiquetas,Min0,Max0,Min1,Max1,Min2,Max2,Min3,Max3):\n",
    "    Imgs=[]\n",
    "    etqs=[]\n",
    "    Imgs_DAB=ImagenDAB(Imagenes)\n",
    "            \n",
    "    for x in range(0,len(Imagenes)):\n",
    "        Promedio=np.mean(Imgs_DAB[x])\n",
    "        if Etiquetas[x]==0:\n",
    "            if Promedio>=Min0 and Promedio<=Max0:\n",
    "                Imgs.append(Imagenes[x])\n",
    "                etqs.append(Etiquetas[x])\n",
    "        elif Etiquetas[x]==1:\n",
    "            if Promedio>=Min1 and Promedio<=Max1:\n",
    "                Imgs.append(Imagenes[x])\n",
    "                etqs.append(Etiquetas[x])\n",
    "        elif Etiquetas[x]==2:\n",
    "            if Promedio>=Min2 and Promedio<=Max2:\n",
    "                Imgs.append(Imagenes[x])\n",
    "                etqs.append(Etiquetas[x])\n",
    "        elif Etiquetas[x]==3:   \n",
    "            if Promedio>=Min3 and Promedio<=Max3:\n",
    "                Imgs.append(Imagenes[x])\n",
    "                etqs.append(Etiquetas[x])\n",
    "        else:\n",
    "            print(\"Error en la etiqueta\")\n",
    "    Imagenes=np.array(Imgs)\n",
    "    Etqs=np.array(etqs)\n",
    "    return Imagenes,Etqs             \n",
    "            "
   ]
  },
  {
   "cell_type": "code",
   "execution_count": 2,
   "id": "5a730a13",
   "metadata": {},
   "outputs": [],
   "source": [
    "# Constantes\n",
    "data_source = \"../data(1000)/\"\n",
    "models_dir = '../saved_models/'\n",
    "train_imgs = glob(f\"{data_source}training/*.png\")\n",
    "test_imgs = glob(f\"{data_source}test/*.png\")\n",
    "I_representativas=glob(f\"{data_source}Imagenes_representativas/*.png\")"
   ]
  },
  {
   "cell_type": "code",
   "execution_count": 44,
   "id": "52f27d4c",
   "metadata": {},
   "outputs": [],
   "source": [
    "#leer imagenes\n",
    "Imagenes_rep=LeerImagenes(I_representativas)\n",
    "Etiquetas_rep=CalculoEtiquetas(I_representativas)\n",
    "X_train=LeerImagenes(train_imgs)\n",
    "y_train=CalculoEtiquetas(train_imgs)\n",
    "X_test=LeerImagenes(test_imgs)\n",
    "y_test=CalculoEtiquetas(test_imgs)"
   ]
  },
  {
   "cell_type": "code",
   "execution_count": 45,
   "id": "512940f3",
   "metadata": {},
   "outputs": [],
   "source": [
    "ImagenesDAB=ImagenDAB(Imagenes_rep)\n",
    "Min0,Max0,Min1,Max1,Min2,Max2,Min3,Max3=CalculoPromedios(ImagenesDAB,Etiquetas_rep)\n",
    "Train_X_final,Train_Y_final=SemiFiltro(X_train,y_train,Min0,Max0,Min1,Max1,Min2,Max2,Min3,Max3)\n",
    "Test_X_final,Test_Y_final=SemiFiltro(X_test,y_test,Min0,Max0,Min1,Max1,Min2,Max2,Min3,Max3)   "
   ]
  },
  {
   "cell_type": "code",
   "execution_count": 46,
   "id": "1684417d",
   "metadata": {},
   "outputs": [
    {
     "name": "stdout",
     "output_type": "stream",
     "text": [
      "1600\n",
      "1143\n"
     ]
    }
   ],
   "source": [
    "print(len(X_train))\n",
    "print(len(Train_X_final))"
   ]
  },
  {
   "cell_type": "code",
   "execution_count": 47,
   "id": "1aebbb6a",
   "metadata": {},
   "outputs": [],
   "source": [
    "n_classes = 4\n",
    "Y_train = np_utils.to_categorical(Train_Y_final, n_classes)\n",
    "Y_test = np_utils.to_categorical(Test_Y_final, n_classes)"
   ]
  },
  {
   "cell_type": "markdown",
   "id": "b4d76163",
   "metadata": {},
   "source": [
    "# Creación de CNN"
   ]
  },
  {
   "cell_type": "code",
   "execution_count": 48,
   "id": "fe9c4867",
   "metadata": {},
   "outputs": [],
   "source": [
    "# building a linear stack of layers with the sequential model\n",
    "model = Sequential()\n",
    "\n",
    "# 1st convolutional layer\n",
    "model.add(Conv2D(25, kernel_size=(5,5), strides=(1,1), padding='valid', activation='relu', input_shape=(300,300,3)))\n",
    "model.add(MaxPool2D(pool_size=(3,3)))\n",
    "\n",
    "# 2nd convolutional layer\n",
    "model.add(Conv2D(25, kernel_size=(3,3), strides=(1,1), padding='valid', activation='relu', input_shape=(300,300,3)))\n",
    "model.add(MaxPool2D(pool_size=(3,3)))\n",
    "\n",
    "# 3rd convolutional layer\n",
    "model.add(Conv2D(25, kernel_size=(3,3), strides=(1,1), padding='valid', activation='relu', input_shape=(300,300,3)))\n",
    "model.add(MaxPool2D(pool_size=(3,3)))\n",
    "\n",
    "# flatten output of conv\n",
    "model.add(Flatten())\n",
    "\n",
    "# hidden layer\n",
    "model.add(Dense(100, activation='relu'))\n",
    "\n",
    "# output layer\n",
    "model.add(Dense(4, activation='softmax'))"
   ]
  },
  {
   "cell_type": "code",
   "execution_count": 49,
   "id": "fb941590",
   "metadata": {
    "scrolled": true
   },
   "outputs": [
    {
     "name": "stdout",
     "output_type": "stream",
     "text": [
      "Epoch 1/10\n",
      "9/9 [==============================] - 26s 3s/step - loss: 44.0038 - accuracy: 0.2563 - val_loss: 4.6961 - val_accuracy: 0.2792\n",
      "Epoch 2/10\n",
      "9/9 [==============================] - 26s 3s/step - loss: 2.1836 - accuracy: 0.4322 - val_loss: 1.1521 - val_accuracy: 0.4151\n",
      "Epoch 3/10\n",
      "9/9 [==============================] - 26s 3s/step - loss: 1.0280 - accuracy: 0.5066 - val_loss: 0.9710 - val_accuracy: 0.5019\n",
      "Epoch 4/10\n",
      "9/9 [==============================] - 26s 3s/step - loss: 0.9024 - accuracy: 0.5477 - val_loss: 0.7206 - val_accuracy: 0.6113\n",
      "Epoch 5/10\n",
      "9/9 [==============================] - 26s 3s/step - loss: 0.7629 - accuracy: 0.6457 - val_loss: 0.6811 - val_accuracy: 0.6491\n",
      "Epoch 6/10\n",
      "9/9 [==============================] - 26s 3s/step - loss: 0.6838 - accuracy: 0.6859 - val_loss: 0.6082 - val_accuracy: 0.7358\n",
      "Epoch 7/10\n",
      "9/9 [==============================] - 26s 3s/step - loss: 0.6367 - accuracy: 0.6877 - val_loss: 0.6719 - val_accuracy: 0.6717\n",
      "Epoch 8/10\n",
      "9/9 [==============================] - 26s 3s/step - loss: 0.5905 - accuracy: 0.6990 - val_loss: 0.5940 - val_accuracy: 0.7057\n",
      "Epoch 9/10\n",
      "9/9 [==============================] - 26s 3s/step - loss: 0.5219 - accuracy: 0.7507 - val_loss: 0.5501 - val_accuracy: 0.7547\n",
      "Epoch 10/10\n",
      "9/9 [==============================] - 26s 3s/step - loss: 0.5075 - accuracy: 0.7410 - val_loss: 0.4989 - val_accuracy: 0.7849\n"
     ]
    },
    {
     "data": {
      "text/plain": [
       "<tensorflow.python.keras.callbacks.History at 0x29289d08850>"
      ]
     },
     "execution_count": 49,
     "metadata": {},
     "output_type": "execute_result"
    }
   ],
   "source": [
    "# compiling the sequential model\n",
    "model.compile(loss='categorical_crossentropy', metrics=['accuracy'], optimizer='adam')\n",
    "# training the model for 10 epochs\n",
    "model.fit(Train_X_final, Y_train, batch_size=128, epochs=10, validation_data=(Test_X_final, Y_test))"
   ]
  },
  {
   "cell_type": "code",
   "execution_count": 50,
   "id": "2066f463",
   "metadata": {},
   "outputs": [],
   "source": [
    "X_pred=model.predict(Test_X_final)"
   ]
  },
  {
   "cell_type": "markdown",
   "id": "d0088686",
   "metadata": {},
   "source": [
    "# Evaluación \n"
   ]
  },
  {
   "cell_type": "code",
   "execution_count": 54,
   "id": "30bf7fa4",
   "metadata": {},
   "outputs": [
    {
     "name": "stdout",
     "output_type": "stream",
     "text": [
      "[[56  9  0  0]\n",
      " [15 33 11  0]\n",
      " [ 0 15 47  0]\n",
      " [ 0  0  7 72]]\n"
     ]
    }
   ],
   "source": [
    "cnf_matrix = confusion_matrix(Y_test.argmax(axis=1), Y_test.argmax(axis=1)\n",
    "print(cnf_matrix)"
   ]
  },
  {
   "cell_type": "code",
   "execution_count": 55,
   "id": "eb3d1d2e",
   "metadata": {},
   "outputs": [
    {
     "data": {
      "image/png": "[encoded data removed]",
      "text/plain": [
       "<Figure size 432x288 with 2 Axes>"
      ]
     },
     "metadata": {
      "needs_background": "light"
     },
     "output_type": "display_data"
    }
   ],
   "source": [
    "disp = plot_confusion_matrix(classifier, X_pred, Y_test.argmax(axis=1),\n",
    "                                 #display_labels=class_names,\n",
    "                                 cmap=plt.cm.Blues)\n",
    "plt.show()"
   ]
  },
  {
   "cell_type": "code",
   "execution_count": 56,
   "id": "c7406c68",
   "metadata": {},
   "outputs": [
    {
     "name": "stdout",
     "output_type": "stream",
     "text": [
      "[71 57 65 72]\n",
      "[56 33 47 72]\n",
      "[15 24 18  0]\n"
     ]
    }
   ],
   "source": [
    "print(cnf_matrix.sum(axis=0))\n",
    "print(np.diag(cnf_matrix) )\n",
    "print(cnf_matrix.sum(axis=0) - np.diag(cnf_matrix) )"
   ]
  },
  {
   "cell_type": "code",
   "execution_count": 57,
   "id": "ba22c7e1",
   "metadata": {},
   "outputs": [],
   "source": [
    "FP = cnf_matrix.sum(axis=0) - np.diag(cnf_matrix) \n",
    "FN = cnf_matrix.sum(axis=1) - np.diag(cnf_matrix)\n",
    "TP = np.diag(cnf_matrix)\n",
    "TN = cnf_matrix.sum() - (FP + FN + TP)\n",
    "FP = FP.astype(float)\n",
    "FN = FN.astype(float)\n",
    "TP = TP.astype(float)\n",
    "TN = TN.astype(float)\n",
    "# Sensitivity, hit rate, recall, or true positive rate\n",
    "TPR = TP/(TP+FN)\n",
    "# Specificity or true negative rate\n",
    "TNR = TN/(TN+FP) \n",
    "# Precision or positive predictive value\n",
    "PPV = TP/(TP+FP)\n",
    "# Negative predictive value\n",
    "NPV = TN/(TN+FN)\n",
    "# Fall out or false positive rate\n",
    "FPR = FP/(FP+TN)\n",
    "# False negative rate\n",
    "FNR = FN/(TP+FN)\n",
    "# False discovery rate\n",
    "FDR = FP/(TP+FP)\n",
    "# Overall accuracy for each class\n",
    "ACC = (TP+TN)/(TP+FP+FN+TN)"
   ]
  },
  {
   "cell_type": "code",
   "execution_count": 58,
   "id": "b0ab685e",
   "metadata": {},
   "outputs": [
    {
     "name": "stdout",
     "output_type": "stream",
     "text": [
      "              precision    recall  f1-score   support\n",
      "\n",
      "           0      0.789     0.862     0.824        65\n",
      "           1      0.579     0.559     0.569        59\n",
      "           2      0.723     0.758     0.740        62\n",
      "           3      1.000     0.911     0.954        79\n",
      "\n",
      "    accuracy                          0.785       265\n",
      "   macro avg      0.773     0.773     0.772       265\n",
      "weighted avg      0.790     0.785     0.786       265\n",
      "\n"
     ]
    }
   ],
   "source": [
    "# Print the precision and recall, among other metrics\n",
    "print(classification_report(Test_Y_final, predicted_labels, digits=3))"
   ]
  },
  {
   "cell_type": "code",
   "execution_count": null,
   "id": "29a39a00",
   "metadata": {},
   "outputs": [],
   "source": []
  },
  {
   "cell_type": "code",
   "execution_count": null,
   "id": "06c6186b",
   "metadata": {},
   "outputs": [],
   "source": []
  },
  {
   "cell_type": "code",
   "execution_count": null,
   "id": "d73b43f4",
   "metadata": {},
   "outputs": [],
   "source": []
  }
 ],
 "metadata": {
  "kernelspec": {
   "display_name": "Python 3 (ipykernel)",
   "language": "python",
   "name": "python3"
  },
  "language_info": {
   "codemirror_mode": {
    "name": "ipython",
    "version": 3
   },
   "file_extension": ".py",
   "mimetype": "text/x-python",
   "name": "python",
   "nbconvert_exporter": "python",
   "pygments_lexer": "ipython3",
   "version": "3.8.5"
  }
 },
 "nbformat": 4,
 "nbformat_minor": 5
}
